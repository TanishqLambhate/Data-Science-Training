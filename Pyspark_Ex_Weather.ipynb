{
  "nbformat": 4,
  "nbformat_minor": 0,
  "metadata": {
    "colab": {
      "provenance": [],
      "authorship_tag": "ABX9TyMWA3ahFoEsvsTWask4HyKN",
      "include_colab_link": true
    },
    "kernelspec": {
      "name": "python3",
      "display_name": "Python 3"
    },
    "language_info": {
      "name": "python"
    }
  },
  "cells": [
    {
      "cell_type": "markdown",
      "metadata": {
        "id": "view-in-github",
        "colab_type": "text"
      },
      "source": [
        "<a href=\"https://colab.research.google.com/github/TanishqLambhate/Data-Science-Training/blob/pyspark/Pyspark_Ex_Weather.ipynb\" target=\"_parent\"><img src=\"https://colab.research.google.com/assets/colab-badge.svg\" alt=\"Open In Colab\"/></a>"
      ]
    },
    {
      "cell_type": "code",
      "execution_count": null,
      "metadata": {
        "id": "g9DiJwTKCXOt"
      },
      "outputs": [],
      "source": [
        "!pip install pyspark"
      ]
    },
    {
      "cell_type": "code",
      "source": [
        "from pyspark.sql import SparkSession\n",
        "from pyspark.sql.functions import *\n",
        "from pyspark.sql.types import *\n",
        "\n",
        "spark = SparkSession.builder.appName('test').getOrCreate()\n",
        "csv_file=\"/content/Weather.csv\"\n",
        "df=spark.read.csv(csv_file,header=True,inferSchema=True)\n",
        "df.show()"
      ],
      "metadata": {
        "colab": {
          "base_uri": "https://localhost:8080/"
        },
        "id": "BC4fVSyBCiHV",
        "outputId": "4e171bb0-9bd7-4003-edd6-0ec9122d0eb7"
      },
      "execution_count": 2,
      "outputs": [
        {
          "output_type": "stream",
          "name": "stdout",
          "text": [
            "+----------+-----------+-------------+--------+--------------+---------+\n",
            "|      date|       city|temperature_c|humidity|wind_speed_kph|condition|\n",
            "+----------+-----------+-------------+--------+--------------+---------+\n",
            "|2023-01-01|   New York|            5|      60|            20|   Cloudy|\n",
            "|2023-01-01|Los Angeles|           15|      40|            10|    Sunny|\n",
            "|2023-01-01|    Chicago|           -2|      75|            25|     Snow|\n",
            "|2023-01-02|   New York|            3|      65|            15|     Rain|\n",
            "|2023-01-02|Los Angeles|           18|      35|             8|    Sunny|\n",
            "|2023-01-02|    Chicago|           -5|      80|            30|     Snow|\n",
            "|2023-01-03|   New York|            6|      55|            22|    Sunny|\n",
            "|2023-01-03|Los Angeles|           20|      38|            12|    Sunny|\n",
            "|2023-01-03|    Chicago|           -1|      70|            18|   Cloudy|\n",
            "+----------+-----------+-------------+--------+--------------+---------+\n",
            "\n"
          ]
        }
      ]
    },
    {
      "cell_type": "code",
      "source": [
        "# 1. Find the Average Temperature for Each City\n",
        "# Group the data by city and calculate the average temperature for each\n",
        "# city.\n",
        "df.groupBy(\"city\").agg(avg(\"temperature_c\").alias(\"Average Temperature\")).show()\n",
        "\n",
        "# 2. Filter Days with Temperature Below Freezing\n",
        "# Filter the data to show only the days where the temperature was below\n",
        "# freezing (below 0°C).\n",
        "df.filter(col(\"temperature_c\") < 0).show()\n",
        "\n",
        "# 3. Find the City with the Highest Wind Speed on a Specific Day\n",
        "# Find the city with the highest wind speed on a specific day (e.g., 2023-\n",
        "# 01-02 ).\n",
        "df.filter(col(\"date\") == \"2023-01-02\").orderBy(desc(\"wind_speed_kph\")).first()\n",
        "\n",
        "# 4. Calculate the Total Number of Days with Rainy Weather\n",
        "# Count the number of days where the condition was \"Rain.\"\n",
        "df.filter(col(\"condition\") == \"Rain\").count()\n",
        "\n",
        "# 5. Calculate the Average Humidity for Each Weather Condition\n",
        "# Group the data by condition and calculate the average humidity for each\n",
        "# weather condition (e.g., Sunny, Rainy, Cloudy).\n",
        "df.groupBy(\"condition\").agg(avg(\"humidity\").alias(\"Average Humidity\")).show()\n"
      ],
      "metadata": {
        "colab": {
          "base_uri": "https://localhost:8080/"
        },
        "id": "MaPxUZmUCy-y",
        "outputId": "5f3cbd7e-1c3b-45eb-d9bb-a5591a54bb64"
      },
      "execution_count": 9,
      "outputs": [
        {
          "output_type": "stream",
          "name": "stdout",
          "text": [
            "+-----------+-------------------+\n",
            "|       city|Average Temperature|\n",
            "+-----------+-------------------+\n",
            "|Los Angeles| 17.666666666666668|\n",
            "|    Chicago|-2.6666666666666665|\n",
            "|   New York|  4.666666666666667|\n",
            "+-----------+-------------------+\n",
            "\n",
            "+----------+-------+-------------+--------+--------------+---------+\n",
            "|      date|   city|temperature_c|humidity|wind_speed_kph|condition|\n",
            "+----------+-------+-------------+--------+--------------+---------+\n",
            "|2023-01-01|Chicago|           -2|      75|            25|     Snow|\n",
            "|2023-01-02|Chicago|           -5|      80|            30|     Snow|\n",
            "|2023-01-03|Chicago|           -1|      70|            18|   Cloudy|\n",
            "+----------+-------+-------------+--------+--------------+---------+\n",
            "\n",
            "+---------+----------------+\n",
            "|condition|Average Humidity|\n",
            "+---------+----------------+\n",
            "|   Cloudy|            65.0|\n",
            "|    Sunny|            42.0|\n",
            "|     Snow|            77.5|\n",
            "|     Rain|            65.0|\n",
            "+---------+----------------+\n",
            "\n"
          ]
        }
      ]
    },
    {
      "cell_type": "code",
      "source": [
        "# 6. Find the Hottest Day in Each City\n",
        "# For each city, find the day with the highest recorded temperature.\n",
        "df.groupBy(\"city\").agg(max(\"temperature_c\").alias(\"Hottest Day\")).show()\n",
        "\n",
        "# 7. Identify Cities That Experienced Snow\n",
        "# Filter the dataset to show only the cities that experienced \"Snow\" in\n",
        "# the condition .\n",
        "df.filter(col(\"condition\") == \"Snow\").select(\"city\").distinct().show()\n",
        "\n",
        "# 8. Calculate the Average Wind Speed for Days When the Condition was Sunny\n",
        "# Filter the dataset for condition = 'Sunny' and calculate the average\n",
        "# wind speed on sunny days.\n",
        "df.filter(col(\"condition\") == \"Sunny\").agg(avg(\"wind_speed_kph\").alias(\"Average Wind Speed\")).show()\n",
        "\n",
        "# 9. Find the Coldest Day Across All Cities\n",
        "# Identify the day with the lowest temperature across all cities.\n",
        "df.orderBy(col(\"temperature_c\").asc()).first()\n",
        "\n",
        "# 10. Create a New Column for Wind Chill\n",
        "# Add a new column wind_chill that estimates the wind chill based on the\n",
        "# formula: [ \\text{Wind Chill} = 13.12 + 0.6215 \\times \\text{Temperature}\n",
        "# - 11.37 \\times (\\text{Wind Speed}^{0.16}) + 0.3965 \\times\n",
        "# \\text{Temperature} \\times (\\text{Wind Speed}^{0.16}) ]\n",
        "# (Assume wind_speed_kph is the wind speed in kilometers per hour.)\n",
        "df = df.withColumn('wind_chill', 13.12 + 0.6215 * df['temperature_c'] - 11.37 * (df['wind_speed_kph'] ** 0.16) + 0.3965 * df['temperature_c'] * (df['wind_speed_kph'] ** 0.16))\n",
        "df.show()"
      ],
      "metadata": {
        "colab": {
          "base_uri": "https://localhost:8080/"
        },
        "id": "LeBgbDtgDkpn",
        "outputId": "033d412d-3478-450d-d611-1707e00127cf"
      },
      "execution_count": 13,
      "outputs": [
        {
          "output_type": "stream",
          "name": "stdout",
          "text": [
            "+-----------+-----------+\n",
            "|       city|Hottest Day|\n",
            "+-----------+-----------+\n",
            "|Los Angeles|         20|\n",
            "|    Chicago|         -1|\n",
            "|   New York|          6|\n",
            "+-----------+-----------+\n",
            "\n",
            "+-------+\n",
            "|   city|\n",
            "+-------+\n",
            "|Chicago|\n",
            "+-------+\n",
            "\n",
            "+------------------+\n",
            "|Average Wind Speed|\n",
            "+------------------+\n",
            "|              13.0|\n",
            "+------------------+\n",
            "\n",
            "+----------+-----------+-------------+--------+--------------+---------+-------------------+\n",
            "|      date|       city|temperature_c|humidity|wind_speed_kph|condition|         wind_chill|\n",
            "+----------+-----------+-------------+--------+--------------+---------+-------------------+\n",
            "|2023-01-01|   New York|            5|      60|            20|   Cloudy| 1.0669572525115663|\n",
            "|2023-01-01|Los Angeles|           15|      40|            10|    Sunny| 14.604602843130213|\n",
            "|2023-01-01|    Chicago|           -2|      75|            25|     Snow| -8.479874917414646|\n",
            "|2023-01-02|   New York|            3|      65|            15|     Rain|-0.7170927775232809|\n",
            "|2023-01-02|Los Angeles|           18|      35|             8|    Sunny| 18.403050060338735|\n",
            "|2023-01-02|    Chicago|           -5|      80|            30|     Snow|-12.996724811921073|\n",
            "|2023-01-03|   New York|            6|      55|            22|    Sunny| 2.1056686374397366|\n",
            "|2023-01-03|Los Angeles|           20|      38|            12|    Sunny|  20.43050124240701|\n",
            "|2023-01-03|    Chicago|           -1|      70|            18|   Cloudy| -6.186405252170635|\n",
            "+----------+-----------+-------------+--------+--------------+---------+-------------------+\n",
            "\n"
          ]
        }
      ]
    }
  ]
}