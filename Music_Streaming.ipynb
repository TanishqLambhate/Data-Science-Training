{
  "nbformat": 4,
  "nbformat_minor": 0,
  "metadata": {
    "colab": {
      "provenance": [],
      "authorship_tag": "ABX9TyMV1Gb8sG7eqtVl4jxZUTRt",
      "include_colab_link": true
    },
    "kernelspec": {
      "name": "python3",
      "display_name": "Python 3"
    },
    "language_info": {
      "name": "python"
    }
  },
  "cells": [
    {
      "cell_type": "markdown",
      "metadata": {
        "id": "view-in-github",
        "colab_type": "text"
      },
      "source": [
        "<a href=\"https://colab.research.google.com/github/TanishqLambhate/Data-Science-Training/blob/pyspark_coding_challenge/Music_Streaming.ipynb\" target=\"_parent\"><img src=\"https://colab.research.google.com/assets/colab-badge.svg\" alt=\"Open In Colab\"/></a>"
      ]
    },
    {
      "cell_type": "code",
      "execution_count": null,
      "metadata": {
        "id": "mTCxC79AYVHr"
      },
      "outputs": [],
      "source": [
        "!pip install pyspark"
      ]
    },
    {
      "cell_type": "code",
      "source": [
        "from pyspark.sql import SparkSession\n",
        "from pyspark.sql.functions import *\n",
        "from pyspark.sql.window import Window\n",
        "spark=SparkSession.builder.appName('Coding Challenge').getOrCreate()\n",
        "csv_path=\"/content/Music_Streaming.csv\"\n",
        "df=spark.read.csv(csv_path,header=True,inferSchema=True)\n",
        "df.show()"
      ],
      "metadata": {
        "colab": {
          "base_uri": "https://localhost:8080/"
        },
        "id": "aoBDug2sYWq4",
        "outputId": "8d252751-6ccc-4ee2-c311-84c9cdebb1c0"
      },
      "execution_count": 10,
      "outputs": [
        {
          "output_type": "stream",
          "name": "stdout",
          "text": [
            "+-------+---------------+----------+----------------+-------------------+-----------+\n",
            "|user_id|     song_title|    artist|duration_seconds|     streaming_time|   location|\n",
            "+-------+---------------+----------+----------------+-------------------+-----------+\n",
            "|      1|Blinding Lights|The Weeknd|             200|2023-09-01 08:15:00|   New York|\n",
            "|      2|   Shape of You|Ed Sheeran|             240|2023-09-01 09:20:00|Los Angeles|\n",
            "|      3|     Levitating|  Dua Lipa|             180|2023-09-01 10:30:00|     London|\n",
            "|      1|        Starboy|The Weeknd|             220|2023-09-01 11:00:00|   New York|\n",
            "|      2|        Perfect|Ed Sheeran|             250|2023-09-01 12:15:00|Los Angeles|\n",
            "|      3|Don't Start Now|  Dua Lipa|             200|2023-09-02 08:10:00|     London|\n",
            "|      1|Save Your Tears|The Weeknd|             210|2023-09-02 09:00:00|   New York|\n",
            "|      2|    Galway Girl|Ed Sheeran|             190|2023-09-02 10:00:00|Los Angeles|\n",
            "|      3|      New Rules|  Dua Lipa|             230|2023-09-02 11:00:00|     London|\n",
            "+-------+---------------+----------+----------------+-------------------+-----------+\n",
            "\n"
          ]
        }
      ]
    },
    {
      "cell_type": "code",
      "source": [
        "# Exercises:\n",
        "# 1. Calculate the Total Listening Time for Each User\n",
        "# Group the data by user_id and calculate the total time spent streaming\n",
        "# (in seconds) for each user.\n",
        "df.groupBy(\"user_id\").agg(sum(\"duration_seconds\").alias(\"total_listening_time\")).show()\n",
        "\n",
        "# 2. Filter Songs Streamed for More Than 200 Seconds\n",
        "# Filter the dataset to show only the songs where the duration_seconds is\n",
        "# greater than 200.\n",
        "df.filter(df.duration_seconds > 200).show()\n",
        "\n",
        "# 3. Find the Most Popular Artist (by Total Streams)\n",
        "# Group the data by artist and find the artist with the most streams\n",
        "# (i.e., the highest number of song plays).\n",
        "df.groupBy(\"artist\").agg(count(\"*\").alias(\"total_streams\")).orderBy(desc(\"total_streams\")).show(1)\n",
        "\n",
        "# 4. Identify the Song with the Longest Duration\n",
        "# Identify the song with the longest duration in the dataset.\n",
        "df.orderBy(desc(\"duration_seconds\")).show(1)\n",
        "\n",
        "# 5. Calculate the Average Song Duration by Artist\n",
        "# Group the data by artist and calculate the average song duration for\n",
        "# each artist.\n",
        "df.groupBy(\"artist\").agg(avg(\"duration_seconds\").alias(\"average_song_duration\")).show()"
      ],
      "metadata": {
        "colab": {
          "base_uri": "https://localhost:8080/"
        },
        "id": "HV8x8G81Y_Ng",
        "outputId": "e53004d2-779f-4439-f317-a311ad7dcbe3"
      },
      "execution_count": 7,
      "outputs": [
        {
          "output_type": "stream",
          "name": "stdout",
          "text": [
            "+-------+--------------------+\n",
            "|user_id|total_listening_time|\n",
            "+-------+--------------------+\n",
            "|      1|                 630|\n",
            "|      3|                 610|\n",
            "|      2|                 680|\n",
            "+-------+--------------------+\n",
            "\n",
            "+-------+---------------+----------+----------------+-------------------+-----------+\n",
            "|user_id|     song_title|    artist|duration_seconds|     streaming_time|   location|\n",
            "+-------+---------------+----------+----------------+-------------------+-----------+\n",
            "|      2|   Shape of You|Ed Sheeran|             240|2023-09-01 09:20:00|Los Angeles|\n",
            "|      1|        Starboy|The Weeknd|             220|2023-09-01 11:00:00|   New York|\n",
            "|      2|        Perfect|Ed Sheeran|             250|2023-09-01 12:15:00|Los Angeles|\n",
            "|      1|Save Your Tears|The Weeknd|             210|2023-09-02 09:00:00|   New York|\n",
            "|      3|      New Rules|  Dua Lipa|             230|2023-09-02 11:00:00|     London|\n",
            "+-------+---------------+----------+----------------+-------------------+-----------+\n",
            "\n",
            "+--------+-------------+\n",
            "|  artist|total_streams|\n",
            "+--------+-------------+\n",
            "|Dua Lipa|            3|\n",
            "+--------+-------------+\n",
            "only showing top 1 row\n",
            "\n",
            "+-------+----------+----------+----------------+-------------------+-----------+\n",
            "|user_id|song_title|    artist|duration_seconds|     streaming_time|   location|\n",
            "+-------+----------+----------+----------------+-------------------+-----------+\n",
            "|      2|   Perfect|Ed Sheeran|             250|2023-09-01 12:15:00|Los Angeles|\n",
            "+-------+----------+----------+----------------+-------------------+-----------+\n",
            "only showing top 1 row\n",
            "\n",
            "+----------+---------------------+\n",
            "|    artist|average_song_duration|\n",
            "+----------+---------------------+\n",
            "|  Dua Lipa|   203.33333333333334|\n",
            "|Ed Sheeran|   226.66666666666666|\n",
            "|The Weeknd|                210.0|\n",
            "+----------+---------------------+\n",
            "\n"
          ]
        }
      ]
    },
    {
      "cell_type": "code",
      "source": [
        "# 6. Find the Top 3 Most Streamed Songs per User\n",
        "# For each user, find the top 3 most-streamed songs (i.e., songs they\n",
        "# played most frequently).\n",
        "windowSpec = Window.partitionBy('user_id').orderBy(desc('duration_seconds'))\n",
        "df_with_rank = df.withColumn('rank', row_number().over(windowSpec))\n",
        "df_top_songs = df_with_rank.filter(col('rank') <= 3)\n",
        "df_top_songs.show()\n",
        "\n",
        "# 7. Calculate the Total Number of Streams per Day\n",
        "# Group the data by streaming_time (by extracting the date) and calculate\n",
        "# the total number of streams for each day.\n",
        "df_streams=df.withColumn(\"streaming_time\",to_date(col(\"streaming_time\")))\n",
        "df_streams.groupBy(\"streaming_time\").agg(count(\"*\").alias(\"total_streams\")).show()\n",
        "\n",
        "# 8. Identify Users Who Streamed Songs from More Than One Artist\n",
        "# Find users who listened to songs by more than one artist.\n",
        "df.groupBy(\"user_id\").agg(countDistinct(\"artist\").alias(\"unique_artists\")).filter(col(\"unique_artists\") > 1).show()\n",
        "\n",
        "# 9. Calculate the Total Streams for Each Location\n",
        "# Group the data by location and calculate the total number of streams\n",
        "# for each location.\n",
        "df.groupBy(\"location\").agg(count(\"*\").alias(\"total_streams\")).show()\n",
        "\n",
        "# 10. Create a New Column to Classify Long and Short Songs\n",
        "# Add a new column song_length that classifies a song as \"Long\" if\n",
        "# duration_seconds > 200 , otherwise classify it as \"Short.\"\n",
        "df.withColumn(\"song_length\", when(col(\"duration_seconds\") > 200, \"Long\").otherwise(\"Short\")).show()\n"
      ],
      "metadata": {
        "colab": {
          "base_uri": "https://localhost:8080/"
        },
        "id": "FZ4InVWbbarN",
        "outputId": "c6420e4f-ddac-4f0f-c4e8-76fd5b177e03"
      },
      "execution_count": 16,
      "outputs": [
        {
          "output_type": "stream",
          "name": "stdout",
          "text": [
            "+-------+---------------+----------+----------------+-------------------+-----------+----+\n",
            "|user_id|     song_title|    artist|duration_seconds|     streaming_time|   location|rank|\n",
            "+-------+---------------+----------+----------------+-------------------+-----------+----+\n",
            "|      1|        Starboy|The Weeknd|             220|2023-09-01 11:00:00|   New York|   1|\n",
            "|      1|Save Your Tears|The Weeknd|             210|2023-09-02 09:00:00|   New York|   2|\n",
            "|      1|Blinding Lights|The Weeknd|             200|2023-09-01 08:15:00|   New York|   3|\n",
            "|      2|        Perfect|Ed Sheeran|             250|2023-09-01 12:15:00|Los Angeles|   1|\n",
            "|      2|   Shape of You|Ed Sheeran|             240|2023-09-01 09:20:00|Los Angeles|   2|\n",
            "|      2|    Galway Girl|Ed Sheeran|             190|2023-09-02 10:00:00|Los Angeles|   3|\n",
            "|      3|      New Rules|  Dua Lipa|             230|2023-09-02 11:00:00|     London|   1|\n",
            "|      3|Don't Start Now|  Dua Lipa|             200|2023-09-02 08:10:00|     London|   2|\n",
            "|      3|     Levitating|  Dua Lipa|             180|2023-09-01 10:30:00|     London|   3|\n",
            "+-------+---------------+----------+----------------+-------------------+-----------+----+\n",
            "\n",
            "+--------------+-------------+\n",
            "|streaming_time|total_streams|\n",
            "+--------------+-------------+\n",
            "|    2023-09-01|            5|\n",
            "|    2023-09-02|            4|\n",
            "+--------------+-------------+\n",
            "\n",
            "+-------+--------------+\n",
            "|user_id|unique_artists|\n",
            "+-------+--------------+\n",
            "+-------+--------------+\n",
            "\n",
            "+-----------+-------------+\n",
            "|   location|total_streams|\n",
            "+-----------+-------------+\n",
            "|Los Angeles|            3|\n",
            "|     London|            3|\n",
            "|   New York|            3|\n",
            "+-----------+-------------+\n",
            "\n",
            "+-------+---------------+----------+----------------+-------------------+-----------+-----------+\n",
            "|user_id|     song_title|    artist|duration_seconds|     streaming_time|   location|song_length|\n",
            "+-------+---------------+----------+----------------+-------------------+-----------+-----------+\n",
            "|      1|Blinding Lights|The Weeknd|             200|2023-09-01 08:15:00|   New York|      Short|\n",
            "|      2|   Shape of You|Ed Sheeran|             240|2023-09-01 09:20:00|Los Angeles|       Long|\n",
            "|      3|     Levitating|  Dua Lipa|             180|2023-09-01 10:30:00|     London|      Short|\n",
            "|      1|        Starboy|The Weeknd|             220|2023-09-01 11:00:00|   New York|       Long|\n",
            "|      2|        Perfect|Ed Sheeran|             250|2023-09-01 12:15:00|Los Angeles|       Long|\n",
            "|      3|Don't Start Now|  Dua Lipa|             200|2023-09-02 08:10:00|     London|      Short|\n",
            "|      1|Save Your Tears|The Weeknd|             210|2023-09-02 09:00:00|   New York|       Long|\n",
            "|      2|    Galway Girl|Ed Sheeran|             190|2023-09-02 10:00:00|Los Angeles|      Short|\n",
            "|      3|      New Rules|  Dua Lipa|             230|2023-09-02 11:00:00|     London|       Long|\n",
            "+-------+---------------+----------+----------------+-------------------+-----------+-----------+\n",
            "\n"
          ]
        }
      ]
    }
  ]
}