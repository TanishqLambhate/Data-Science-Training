{
  "nbformat": 4,
  "nbformat_minor": 0,
  "metadata": {
    "colab": {
      "provenance": [],
      "authorship_tag": "ABX9TyPL86M16cn8ZaNEDUBVZ/7I",
      "include_colab_link": true
    },
    "kernelspec": {
      "name": "python3",
      "display_name": "Python 3"
    },
    "language_info": {
      "name": "python"
    }
  },
  "cells": [
    {
      "cell_type": "markdown",
      "metadata": {
        "id": "view-in-github",
        "colab_type": "text"
      },
      "source": [
        "<a href=\"https://colab.research.google.com/github/TanishqLambhate/Data-Science-Training/blob/pyspark_coding_challenge/Banking_Transaction.ipynb\" target=\"_parent\"><img src=\"https://colab.research.google.com/assets/colab-badge.svg\" alt=\"Open In Colab\"/></a>"
      ]
    },
    {
      "cell_type": "code",
      "execution_count": 1,
      "metadata": {
        "colab": {
          "base_uri": "https://localhost:8080/"
        },
        "id": "fNq-vQvfQkxY",
        "outputId": "3bed6a9d-23f3-4a3b-e1c3-85659d7faeba"
      },
      "outputs": [
        {
          "output_type": "stream",
          "name": "stdout",
          "text": [
            "Collecting pyspark\n",
            "  Downloading pyspark-3.5.2.tar.gz (317.3 MB)\n",
            "\u001b[2K     \u001b[90m━━━━━━━━━━━━━━━━━━━━━━━━━━━━━━━━━━━━━━━━\u001b[0m \u001b[32m317.3/317.3 MB\u001b[0m \u001b[31m4.0 MB/s\u001b[0m eta \u001b[36m0:00:00\u001b[0m\n",
            "\u001b[?25h  Preparing metadata (setup.py) ... \u001b[?25l\u001b[?25hdone\n",
            "Requirement already satisfied: py4j==0.10.9.7 in /usr/local/lib/python3.10/dist-packages (from pyspark) (0.10.9.7)\n",
            "Building wheels for collected packages: pyspark\n",
            "  Building wheel for pyspark (setup.py) ... \u001b[?25l\u001b[?25hdone\n",
            "  Created wheel for pyspark: filename=pyspark-3.5.2-py2.py3-none-any.whl size=317812365 sha256=0a1b6c4e47b66d943b1ed899ae2e30748a33b3e4fd56e4ca5274ce909764610e\n",
            "  Stored in directory: /root/.cache/pip/wheels/34/34/bd/03944534c44b677cd5859f248090daa9fb27b3c8f8e5f49574\n",
            "Successfully built pyspark\n",
            "Installing collected packages: pyspark\n",
            "Successfully installed pyspark-3.5.2\n"
          ]
        }
      ],
      "source": [
        "!pip install pyspark"
      ]
    },
    {
      "cell_type": "code",
      "source": [
        "from pyspark.sql import SparkSession\n",
        "from pyspark.sql.functions import *\n",
        "\n",
        "spark=SparkSession.builder.appName('Coding Challenge').getOrCreate()\n",
        "csv_path=\"/content/Banking_Transaction.csv\"\n",
        "df=spark.read.csv(csv_path,header=True,inferSchema=True)\n",
        "df.show()"
      ],
      "metadata": {
        "colab": {
          "base_uri": "https://localhost:8080/"
        },
        "id": "88Gln0BoQ89_",
        "outputId": "60cbff40-6ed4-4878-a79d-bf3949a03671"
      },
      "execution_count": 2,
      "outputs": [
        {
          "output_type": "stream",
          "name": "stdout",
          "text": [
            "+--------------+-----------+----------------+------+----------------+\n",
            "|transaction_id|customer_id|transaction_type|amount|transaction_date|\n",
            "+--------------+-----------+----------------+------+----------------+\n",
            "|             1|        201|         Deposit|  5000|      2023-09-01|\n",
            "|             2|        202|      Withdrawal|  2000|      2023-09-01|\n",
            "|             3|        203|         Deposit|  3000|      2023-09-02|\n",
            "|             4|        201|      Withdrawal|  1500|      2023-09-02|\n",
            "|             5|        204|         Deposit| 10000|      2023-09-03|\n",
            "|             6|        205|      Withdrawal|   500|      2023-09-03|\n",
            "|             7|        202|         Deposit|  2500|      2023-09-04|\n",
            "|             8|        206|      Withdrawal|   700|      2023-09-04|\n",
            "|             9|        203|         Deposit|  4000|      2023-09-05|\n",
            "|            10|        204|      Withdrawal|  3000|      2023-09-05|\n",
            "+--------------+-----------+----------------+------+----------------+\n",
            "\n"
          ]
        }
      ]
    },
    {
      "cell_type": "code",
      "source": [
        "# 1. Calculate the Total Deposit and Withdrawal Amounts\n",
        "# Group the data by transaction_type and calculate the total amounts for\n",
        "# both deposits and withdrawals.\n",
        "df.groupBy(\"transaction_type\").agg(sum(\"amount\").alias(\"total_amount\")).show()\n",
        "\n",
        "# 2. Filter Transactions Greater Than $3,000\n",
        "# Filter the dataset to show only transactions where the amount is\n",
        "# greater than $3,000.\n",
        "df.filter(col(\"amount\") > 3000).show()\n",
        "\n",
        "# 3. Find the Largest Deposit Made\n",
        "# Identify the transaction with the highest deposit amount.\n",
        "largest_deposit=df.filter(col(\"transaction_type\") == \"Deposit\").orderBy(col(\"amount\").desc()).first()\n",
        "print(\"The largest deposit made :\")\n",
        "print(largest_deposit)\n",
        "\n",
        "# 4. Calculate the Average Transaction Amount for Each Transaction Type\n",
        "# Group the data by transaction_type and calculate the average amount for\n",
        "# deposits and withdrawals.\n",
        "df.groupBy(\"transaction_type\").agg(avg(\"amount\").alias(\"average_amount\")).show()\n",
        "\n",
        "# 5. Find Customers Who Made Both Deposits and Withdrawals\n",
        "# Identify customers who have made at least one deposit and one\n",
        "# withdrawal.\n",
        "df_deposits=df.filter(col(\"transaction_type\") == \"Deposit\")\n",
        "df_withdrawals=df.filter(col(\"transaction_type\") == \"Withdrawal\")\n",
        "customers_with_both=df_deposits.select(\"customer_id\").intersect(df_withdrawals.select(\"customer_id\"))\n",
        "print(\"Customers who made both deposits and withdrawals :\")\n",
        "customers_with_both.show()"
      ],
      "metadata": {
        "colab": {
          "base_uri": "https://localhost:8080/"
        },
        "id": "rXG5QG_SSOLM",
        "outputId": "78c58151-1fb2-4b87-e544-b927fc47b1e7"
      },
      "execution_count": 12,
      "outputs": [
        {
          "output_type": "stream",
          "name": "stdout",
          "text": [
            "+----------------+------------+\n",
            "|transaction_type|total_amount|\n",
            "+----------------+------------+\n",
            "|         Deposit|       24500|\n",
            "|      Withdrawal|        7700|\n",
            "+----------------+------------+\n",
            "\n",
            "+--------------+-----------+----------------+------+----------------+\n",
            "|transaction_id|customer_id|transaction_type|amount|transaction_date|\n",
            "+--------------+-----------+----------------+------+----------------+\n",
            "|             1|        201|         Deposit|  5000|      2023-09-01|\n",
            "|             5|        204|         Deposit| 10000|      2023-09-03|\n",
            "|             9|        203|         Deposit|  4000|      2023-09-05|\n",
            "+--------------+-----------+----------------+------+----------------+\n",
            "\n",
            "The largest deposit made :\n",
            "Row(transaction_id=5, customer_id=204, transaction_type='Deposit', amount=10000, transaction_date=datetime.date(2023, 9, 3))\n",
            "+----------------+--------------+\n",
            "|transaction_type|average_amount|\n",
            "+----------------+--------------+\n",
            "|         Deposit|        4900.0|\n",
            "|      Withdrawal|        1540.0|\n",
            "+----------------+--------------+\n",
            "\n",
            "Customers who made both deposits and withdrawals :\n",
            "+-----------+\n",
            "|customer_id|\n",
            "+-----------+\n",
            "|        202|\n",
            "|        204|\n",
            "|        201|\n",
            "+-----------+\n",
            "\n"
          ]
        }
      ]
    },
    {
      "cell_type": "code",
      "source": [
        "# 6. Calculate the Total Amount of Transactions per Day\n",
        "# Group the data by transaction_date and calculate the total amount of\n",
        "# all transactions for each day.\n",
        "df.groupBy(\"transaction_date\").agg(sum(\"amount\").alias(\"total_amount\")).show()\n",
        "\n",
        "# 7. Find the Customer with the Highest Total Withdrawal\n",
        "# Calculate the total amount withdrawn by each customer and identify the\n",
        "# customer with the highest total withdrawal.\n",
        "df_total=df.filter(col(\"transaction_type\") == \"Withdrawal\").groupBy(\"customer_id\").agg(sum(\"amount\").alias(\"total_amount\"))\n",
        "highest_withdrawal=df_total.orderBy(col(\"total_amount\").desc()).first()\n",
        "print(\"The customer with the highest total withdrawal :\")\n",
        "print(highest_withdrawal)\n",
        "\n",
        "# 8. Calculate the Number of Transactions for Each Customer\n",
        "# Group the data by customer_id and calculate the total number of\n",
        "# transactions made by each customer.\n",
        "df.groupBy(\"customer_id\").agg(count(\"*\").alias(\"total_transactions\")).show()\n",
        "\n",
        "# 9. Find All Transactions That Occurred on the Same Day as a Withdrawal Greater\n",
        "# Than $1,000\n",
        "# Filter the data to show all transactions that occurred on the same day\n",
        "# as a withdrawal of more than $1,000.\n",
        "df_withdrawal=df.filter(col(\"transaction_type\") == \"Withdrawal\")\n",
        "df_withdrawal=df_withdrawal.filter(col(\"amount\") > 1000)\n",
        "df_withdrawal.show()\n",
        "\n",
        "# 10. Create a New Column to Classify Transactions as \"High\" or \"Low\" Value\n",
        "# Add a new column transaction_value that classifies a transaction as\n",
        "# \"High\" if the amount is greater than $5,000, otherwise classify it as\n",
        "# \"Low.\"\n",
        "df=df.withColumn(\"transaction_value\", when(col(\"amount\") > 5000, \"High\").otherwise(\"Low\"))\n",
        "df.show()\n"
      ],
      "metadata": {
        "colab": {
          "base_uri": "https://localhost:8080/"
        },
        "id": "pUsQthNYUPZq",
        "outputId": "be3fe9c0-0be8-49c0-c468-32f5de855a47"
      },
      "execution_count": 17,
      "outputs": [
        {
          "output_type": "stream",
          "name": "stdout",
          "text": [
            "+----------------+------------+\n",
            "|transaction_date|total_amount|\n",
            "+----------------+------------+\n",
            "|      2023-09-03|       10500|\n",
            "|      2023-09-01|        7000|\n",
            "|      2023-09-05|        7000|\n",
            "|      2023-09-02|        4500|\n",
            "|      2023-09-04|        3200|\n",
            "+----------------+------------+\n",
            "\n",
            "The customer with the highest total withdrawal :\n",
            "Row(customer_id=204, total_amount=3000)\n",
            "+-----------+------------------+\n",
            "|customer_id|total_transactions|\n",
            "+-----------+------------------+\n",
            "|        206|                 1|\n",
            "|        205|                 1|\n",
            "|        202|                 2|\n",
            "|        203|                 2|\n",
            "|        204|                 2|\n",
            "|        201|                 2|\n",
            "+-----------+------------------+\n",
            "\n",
            "+--------------+-----------+----------------+------+----------------+\n",
            "|transaction_id|customer_id|transaction_type|amount|transaction_date|\n",
            "+--------------+-----------+----------------+------+----------------+\n",
            "|             2|        202|      Withdrawal|  2000|      2023-09-01|\n",
            "|             4|        201|      Withdrawal|  1500|      2023-09-02|\n",
            "|            10|        204|      Withdrawal|  3000|      2023-09-05|\n",
            "+--------------+-----------+----------------+------+----------------+\n",
            "\n",
            "+--------------+-----------+----------------+------+----------------+-----------------+\n",
            "|transaction_id|customer_id|transaction_type|amount|transaction_date|transaction_value|\n",
            "+--------------+-----------+----------------+------+----------------+-----------------+\n",
            "|             1|        201|         Deposit|  5000|      2023-09-01|              Low|\n",
            "|             2|        202|      Withdrawal|  2000|      2023-09-01|              Low|\n",
            "|             3|        203|         Deposit|  3000|      2023-09-02|              Low|\n",
            "|             4|        201|      Withdrawal|  1500|      2023-09-02|              Low|\n",
            "|             5|        204|         Deposit| 10000|      2023-09-03|             High|\n",
            "|             6|        205|      Withdrawal|   500|      2023-09-03|              Low|\n",
            "|             7|        202|         Deposit|  2500|      2023-09-04|              Low|\n",
            "|             8|        206|      Withdrawal|   700|      2023-09-04|              Low|\n",
            "|             9|        203|         Deposit|  4000|      2023-09-05|              Low|\n",
            "|            10|        204|      Withdrawal|  3000|      2023-09-05|              Low|\n",
            "+--------------+-----------+----------------+------+----------------+-----------------+\n",
            "\n"
          ]
        }
      ]
    }
  ]
}