{
  "nbformat": 4,
  "nbformat_minor": 0,
  "metadata": {
    "colab": {
      "provenance": [],
      "authorship_tag": "ABX9TyPTWpDmXg6N02RFqT8MJNF4",
      "include_colab_link": true
    },
    "kernelspec": {
      "name": "python3",
      "display_name": "Python 3"
    },
    "language_info": {
      "name": "python"
    }
  },
  "cells": [
    {
      "cell_type": "markdown",
      "metadata": {
        "id": "view-in-github",
        "colab_type": "text"
      },
      "source": [
        "<a href=\"https://colab.research.google.com/github/TanishqLambhate/Data-Science-Training/blob/pyspark/Pyspark_Ex_Food_Delivery.ipynb\" target=\"_parent\"><img src=\"https://colab.research.google.com/assets/colab-badge.svg\" alt=\"Open In Colab\"/></a>"
      ]
    },
    {
      "cell_type": "code",
      "execution_count": null,
      "metadata": {
        "id": "m82BcUpz5ty1"
      },
      "outputs": [],
      "source": [
        "!pip install pyspark"
      ]
    },
    {
      "cell_type": "code",
      "source": [
        "from pyspark.sql import SparkSession\n",
        "from pyspark.sql.functions import *\n",
        "from pyspark.sql.types import *\n",
        "\n",
        "spark=SparkSession.builder.appName('Food Delivery').getOrCreate()\n",
        "csv_file=\"/content/Food.csv\"\n",
        "df=spark.read.csv(csv_file,header=True,inferSchema=True)\n",
        "df.show()"
      ],
      "metadata": {
        "colab": {
          "base_uri": "https://localhost:8080/"
        },
        "id": "q4RjugMw55fu",
        "outputId": "bcc2cf71-74fa-4b33-fa71-842f079e5c9b"
      },
      "execution_count": 2,
      "outputs": [
        {
          "output_type": "stream",
          "name": "stdout",
          "text": [
            "+--------+-----------+---------------+-------------+--------+-----+------------------+----------+\n",
            "|order_id|customer_id|restaurant_name|    food_item|quantity|price|delivery_time_mins|   order_d|\n",
            "+--------+-----------+---------------+-------------+--------+-----+------------------+----------+\n",
            "|       1|        201|     McDonald's|       Burger|       2| 5.99|                30|2023-06-15|\n",
            "|       2|        202|      Pizza Hut|        Pizza|       1|12.99|                45|2023-06-16|\n",
            "|       3|        203|            KFC|Fried Chicken|       3| 8.99|                25|2023-06-17|\n",
            "|       4|        201|         Subway|     Sandwich|       2|  6.5|                20|2023-06-17|\n",
            "|       5|        204|       Domino's|        Pizza|       2|11.99|                40|2023-06-18|\n",
            "|       6|        205|      Starbucks|       Coffee|       1|  4.5|                15|2023-06-18|\n",
            "|       7|        202|            KFC|Fried Chicken|       1| 8.99|                25|2023-06-19|\n",
            "|       8|        206|     McDonald's|        Fries|       3| 2.99|                15|2023-06-19|\n",
            "|       9|        207|    Burger King|       Burger|       1| 6.99|                30|2023-06-20|\n",
            "|      10|        203|      Starbucks|       Coffee|       2|  4.5|                20|2023-06-20|\n",
            "+--------+-----------+---------------+-------------+--------+-----+------------------+----------+\n",
            "\n"
          ]
        }
      ]
    },
    {
      "cell_type": "code",
      "source": [
        "# 1. Calculate Total Revenue per Restaurant\n",
        "# Group the data by restaurant_name and calculate the total revenue for\n",
        "# each restaurant. (Hint: Multiply price by quantity to get total\n",
        "# revenue per order.)\n",
        "df_revenue=df.withColumn('total_revenue',col('price')*col('quantity'))\n",
        "df_revenue.show()\n",
        "# 2. Find the Fastest Delivery\n",
        "# Identify the order with the fastest delivery time.\n",
        "df_fastest=df.orderBy(col('delivery_time_mins').asc())\n",
        "df_fastest.show()\n",
        "# 3. Calculate Average Delivery Time per Restaurant\n",
        "# Group the data by restaurant_name and calculate the average delivery\n",
        "# time for each restaurant.\n",
        "df_avg_time=df.groupBy('restaurant_name').agg(avg('delivery_time_mins').alias('avg_delivery_time'))\n",
        "df_avg_time.show()\n",
        "# 4. Filter Orders for a Specific Customer\n",
        "df_customer=df.filter(df.customer_id == 201)\n",
        "df_customer.show()"
      ],
      "metadata": {
        "colab": {
          "base_uri": "https://localhost:8080/"
        },
        "id": "FIrOolg-6epN",
        "outputId": "665fb089-711b-41ad-8629-d9bd5f6eacc3"
      },
      "execution_count": 9,
      "outputs": [
        {
          "output_type": "stream",
          "name": "stdout",
          "text": [
            "+--------+-----------+---------------+-------------+--------+-----+------------------+----------+-------------+\n",
            "|order_id|customer_id|restaurant_name|    food_item|quantity|price|delivery_time_mins|   order_d|total_revenue|\n",
            "+--------+-----------+---------------+-------------+--------+-----+------------------+----------+-------------+\n",
            "|       1|        201|     McDonald's|       Burger|       2| 5.99|                30|2023-06-15|        11.98|\n",
            "|       2|        202|      Pizza Hut|        Pizza|       1|12.99|                45|2023-06-16|        12.99|\n",
            "|       3|        203|            KFC|Fried Chicken|       3| 8.99|                25|2023-06-17|        26.97|\n",
            "|       4|        201|         Subway|     Sandwich|       2|  6.5|                20|2023-06-17|         13.0|\n",
            "|       5|        204|       Domino's|        Pizza|       2|11.99|                40|2023-06-18|        23.98|\n",
            "|       6|        205|      Starbucks|       Coffee|       1|  4.5|                15|2023-06-18|          4.5|\n",
            "|       7|        202|            KFC|Fried Chicken|       1| 8.99|                25|2023-06-19|         8.99|\n",
            "|       8|        206|     McDonald's|        Fries|       3| 2.99|                15|2023-06-19|         8.97|\n",
            "|       9|        207|    Burger King|       Burger|       1| 6.99|                30|2023-06-20|         6.99|\n",
            "|      10|        203|      Starbucks|       Coffee|       2|  4.5|                20|2023-06-20|          9.0|\n",
            "+--------+-----------+---------------+-------------+--------+-----+------------------+----------+-------------+\n",
            "\n",
            "+--------+-----------+---------------+-------------+--------+-----+------------------+----------+\n",
            "|order_id|customer_id|restaurant_name|    food_item|quantity|price|delivery_time_mins|   order_d|\n",
            "+--------+-----------+---------------+-------------+--------+-----+------------------+----------+\n",
            "|       6|        205|      Starbucks|       Coffee|       1|  4.5|                15|2023-06-18|\n",
            "|       8|        206|     McDonald's|        Fries|       3| 2.99|                15|2023-06-19|\n",
            "|       4|        201|         Subway|     Sandwich|       2|  6.5|                20|2023-06-17|\n",
            "|      10|        203|      Starbucks|       Coffee|       2|  4.5|                20|2023-06-20|\n",
            "|       3|        203|            KFC|Fried Chicken|       3| 8.99|                25|2023-06-17|\n",
            "|       7|        202|            KFC|Fried Chicken|       1| 8.99|                25|2023-06-19|\n",
            "|       1|        201|     McDonald's|       Burger|       2| 5.99|                30|2023-06-15|\n",
            "|       9|        207|    Burger King|       Burger|       1| 6.99|                30|2023-06-20|\n",
            "|       5|        204|       Domino's|        Pizza|       2|11.99|                40|2023-06-18|\n",
            "|       2|        202|      Pizza Hut|        Pizza|       1|12.99|                45|2023-06-16|\n",
            "+--------+-----------+---------------+-------------+--------+-----+------------------+----------+\n",
            "\n",
            "+---------------+-----------------+\n",
            "|restaurant_name|avg_delivery_time|\n",
            "+---------------+-----------------+\n",
            "|         Subway|             20.0|\n",
            "|      Pizza Hut|             45.0|\n",
            "|    Burger King|             30.0|\n",
            "|            KFC|             25.0|\n",
            "|       Domino's|             40.0|\n",
            "|     McDonald's|             22.5|\n",
            "|      Starbucks|             17.5|\n",
            "+---------------+-----------------+\n",
            "\n",
            "+--------+-----------+---------------+---------+--------+-----+------------------+----------+\n",
            "|order_id|customer_id|restaurant_name|food_item|quantity|price|delivery_time_mins|   order_d|\n",
            "+--------+-----------+---------------+---------+--------+-----+------------------+----------+\n",
            "|       1|        201|     McDonald's|   Burger|       2| 5.99|                30|2023-06-15|\n",
            "|       4|        201|         Subway| Sandwich|       2|  6.5|                20|2023-06-17|\n",
            "+--------+-----------+---------------+---------+--------+-----+------------------+----------+\n",
            "\n"
          ]
        }
      ]
    },
    {
      "cell_type": "code",
      "source": [
        "# 5. Find Orders Where Total Amount Spent is Greater Than $20\n",
        "# Filter orders where the total amount spent (price * quantity) is greater\n",
        "# than $20.\n",
        "\n",
        "df_total=df.withColumn('total_amount',col('price')*col('quantity'))\n",
        "# df_total.show()\n",
        "df_total_amount=df_total.filter(df_total.total_amount>20)\n",
        "df_total_amount.show()\n",
        "# 6. Calculate the Total Quantity of Each Food Item Sold\n",
        "# Group the data by food_item and calculate the total quantity of each\n",
        "# food item sold.\n",
        "df_quantity=df.groupBy('food_item').agg(sum('quantity').alias('total_quantity'))\n",
        "df_quantity.show()\n",
        "# 7. Find the Top 3 Most Popular Restaurants by Number of Orders\n",
        "# Identify the top 3 restaurants with the highest number of orders placed.\n",
        "df_popular=df.groupBy('restaurant_name').count().orderBy(col('count').desc()).limit(3)\n",
        "df_popular.show()\n",
        "\n",
        "# 8. Calculate Total Revenue per Day\n",
        "# Group the data by order_date and calculate the total revenue for each\n",
        "# day.\n",
        "total_revenue_per_day = df.groupBy('order_id').agg({'price': 'sum'})\n",
        "total_revenue_per_day.show()\n",
        "# 9. Find the Longest Delivery Time for Each Restaurant\n",
        "# For each restaurant, find the longest delivery time.\n",
        "df_longest=df.groupBy('restaurant_name').agg(max('delivery_time_mins').alias('longest_delivery_time'))\n",
        "df_longest.show()\n",
        "\n",
        "# 10. Create a New Column for Total Order Value\n",
        "# Add a new column total_order_value that calculates the total value of\n",
        "# each order ( price * quantity ).\n",
        "df_value=df.withColumn('total_order_value',col('price')*col('quantity'))\n",
        "df_value.show()\n"
      ],
      "metadata": {
        "colab": {
          "base_uri": "https://localhost:8080/"
        },
        "id": "CRX8NKHR9f64",
        "outputId": "e80f9add-8264-4cf5-ef54-f9219c53a507"
      },
      "execution_count": 19,
      "outputs": [
        {
          "output_type": "stream",
          "name": "stdout",
          "text": [
            "+--------+-----------+---------------+-------------+--------+-----+------------------+----------+------------+\n",
            "|order_id|customer_id|restaurant_name|    food_item|quantity|price|delivery_time_mins|   order_d|total_amount|\n",
            "+--------+-----------+---------------+-------------+--------+-----+------------------+----------+------------+\n",
            "|       3|        203|            KFC|Fried Chicken|       3| 8.99|                25|2023-06-17|       26.97|\n",
            "|       5|        204|       Domino's|        Pizza|       2|11.99|                40|2023-06-18|       23.98|\n",
            "+--------+-----------+---------------+-------------+--------+-----+------------------+----------+------------+\n",
            "\n",
            "+-------------+--------------+\n",
            "|    food_item|total_quantity|\n",
            "+-------------+--------------+\n",
            "|        Fries|             3|\n",
            "|       Burger|             3|\n",
            "|     Sandwich|             2|\n",
            "|        Pizza|             3|\n",
            "|       Coffee|             3|\n",
            "|Fried Chicken|             4|\n",
            "+-------------+--------------+\n",
            "\n",
            "+---------------+-----+\n",
            "|restaurant_name|count|\n",
            "+---------------+-----+\n",
            "|            KFC|    2|\n",
            "|      Starbucks|    2|\n",
            "|     McDonald's|    2|\n",
            "+---------------+-----+\n",
            "\n",
            "+--------+----------+\n",
            "|order_id|sum(price)|\n",
            "+--------+----------+\n",
            "|       1|      5.99|\n",
            "|       6|       4.5|\n",
            "|       3|      8.99|\n",
            "|       5|     11.99|\n",
            "|       9|      6.99|\n",
            "|       4|       6.5|\n",
            "|       8|      2.99|\n",
            "|       7|      8.99|\n",
            "|      10|       4.5|\n",
            "|       2|     12.99|\n",
            "+--------+----------+\n",
            "\n",
            "+---------------+---------------------+\n",
            "|restaurant_name|longest_delivery_time|\n",
            "+---------------+---------------------+\n",
            "|         Subway|                   20|\n",
            "|      Pizza Hut|                   45|\n",
            "|    Burger King|                   30|\n",
            "|            KFC|                   25|\n",
            "|       Domino's|                   40|\n",
            "|     McDonald's|                   30|\n",
            "|      Starbucks|                   20|\n",
            "+---------------+---------------------+\n",
            "\n",
            "+--------+-----------+---------------+-------------+--------+-----+------------------+----------+-----------------+\n",
            "|order_id|customer_id|restaurant_name|    food_item|quantity|price|delivery_time_mins|   order_d|total_order_value|\n",
            "+--------+-----------+---------------+-------------+--------+-----+------------------+----------+-----------------+\n",
            "|       1|        201|     McDonald's|       Burger|       2| 5.99|                30|2023-06-15|            11.98|\n",
            "|       2|        202|      Pizza Hut|        Pizza|       1|12.99|                45|2023-06-16|            12.99|\n",
            "|       3|        203|            KFC|Fried Chicken|       3| 8.99|                25|2023-06-17|            26.97|\n",
            "|       4|        201|         Subway|     Sandwich|       2|  6.5|                20|2023-06-17|             13.0|\n",
            "|       5|        204|       Domino's|        Pizza|       2|11.99|                40|2023-06-18|            23.98|\n",
            "|       6|        205|      Starbucks|       Coffee|       1|  4.5|                15|2023-06-18|              4.5|\n",
            "|       7|        202|            KFC|Fried Chicken|       1| 8.99|                25|2023-06-19|             8.99|\n",
            "|       8|        206|     McDonald's|        Fries|       3| 2.99|                15|2023-06-19|             8.97|\n",
            "|       9|        207|    Burger King|       Burger|       1| 6.99|                30|2023-06-20|             6.99|\n",
            "|      10|        203|      Starbucks|       Coffee|       2|  4.5|                20|2023-06-20|              9.0|\n",
            "+--------+-----------+---------------+-------------+--------+-----+------------------+----------+-----------------+\n",
            "\n"
          ]
        }
      ]
    }
  ]
}