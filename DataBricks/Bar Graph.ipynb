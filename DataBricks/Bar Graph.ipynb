{
 "cells": [
  {
   "cell_type": "code",
   "execution_count": 0,
   "metadata": {
    "application/vnd.databricks.v1+cell": {
     "cellMetadata": {
      "byteLimit": 2048000,
      "rowLimit": 10000
     },
     "inputWidgets": {},
     "nuid": "d2dd2590-83a0-4faa-8f45-7943419c8b27",
     "showTitle": false,
     "title": ""
    }
   },
   "outputs": [
    {
     "output_type": "stream",
     "name": "stdout",
     "output_type": "stream",
     "text": [
      "+----------+-------+------+----+---------+---------+\n|   FL_DATE|CARRIER|ORIGIN|DEST|DEP_DELAY|ARR_DELAY|\n+----------+-------+------+----+---------+---------+\n|2023-09-01|     AA|   ATL| DFW|        5|       10|\n|2023-09-01|     UA|   LAX| JFK|       -3|        0|\n|2023-09-01|     DL|   SFO| ORD|        7|       15|\n|2023-09-02|     AA|   DFW| LAX|        0|       -5|\n|2023-09-02|     UA|   JFK| ATL|       -2|        0|\n|2023-09-02|     DL|   ORD| LAX|       20|       30|\n|2023-09-03|     AA|   LAX| SFO|       10|       12|\n|2023-09-03|     UA|   ATL| ORD|        0|      -10|\n|2023-09-03|     DL|   SFO| JFK|        5|       25|\n|2023-09-04|     AA|   JFK| LAX|        0|        0|\n+----------+-------+------+----+---------+---------+\nonly showing top 10 rows\n\nroot\n |-- FL_DATE: string (nullable = true)\n |-- CARRIER: string (nullable = true)\n |-- ORIGIN: string (nullable = true)\n |-- DEST: string (nullable = true)\n |-- DEP_DELAY: string (nullable = true)\n |-- ARR_DELAY: string (nullable = true)\n\n"
     ]
    }
   ],
   "source": [
    "# Load the CSV file into a Spark DataFrame\n",
    "df = spark.read.format(\"csv\").option(\"header\", \"true\").load(\"file:/Workspace/Users/azuser2126_mml.local@techademy.com/data.csv\")\n",
    "\n",
    "# Display the first 10 rows\n",
    "df.show(10)\n",
    "\n",
    "# Inspect the schema\n",
    "df.printSchema()"
   ]
  },
  {
   "cell_type": "code",
   "execution_count": 0,
   "metadata": {
    "application/vnd.databricks.v1+cell": {
     "cellMetadata": {
      "byteLimit": 2048000,
      "rowLimit": 10000
     },
     "inputWidgets": {},
     "nuid": "b17d8fc4-c6c9-4d84-8f0e-dd684bf7b8c4",
     "showTitle": false,
     "title": ""
    }
   },
   "outputs": [
    {
     "output_type": "stream",
     "name": "stdout",
     "output_type": "stream",
     "text": [
      "+----------+-------+------+----+---------+---------+\n|   FL_DATE|CARRIER|ORIGIN|DEST|DEP_DELAY|ARR_DELAY|\n+----------+-------+------+----+---------+---------+\n|2023-09-01|     AA|   ATL| DFW|        5|       10|\n|2023-09-01|     UA|   LAX| JFK|       -3|        0|\n|2023-09-01|     DL|   SFO| ORD|        7|       15|\n|2023-09-02|     AA|   DFW| LAX|        0|       -5|\n|2023-09-02|     UA|   JFK| ATL|       -2|        0|\n|2023-09-02|     DL|   ORD| LAX|       20|       30|\n|2023-09-03|     AA|   LAX| SFO|       10|       12|\n|2023-09-03|     UA|   ATL| ORD|        0|      -10|\n|2023-09-03|     DL|   SFO| JFK|        5|       25|\n|2023-09-04|     AA|   JFK| LAX|        0|        0|\n|2023-09-04|     UA|   ORD| ATL|       15|       20|\n|2023-09-04|     DL|   LAX| SFO|       -5|      -10|\n|2023-09-05|     AA|   LAX| JFK|       20|       25|\n|2023-09-05|     UA|   DFW| ATL|        0|        0|\n|2023-09-05|     DL|   JFK| LAX|       10|       15|\n+----------+-------+------+----+---------+---------+\n\n"
     ]
    }
   ],
   "source": [
    "# drop any rows containing null values\n",
    "df = df.na.drop()\n",
    "df.show()\n",
    "#filter out rows where a specific column is less than or equal to zero\n",
    "df = df.filter(df.ARR_DELAY > 0)"
   ]
  },
  {
   "cell_type": "code",
   "execution_count": 0,
   "metadata": {
    "application/vnd.databricks.v1+cell": {
     "cellMetadata": {
      "byteLimit": 2048000,
      "rowLimit": 10000
     },
     "inputWidgets": {},
     "nuid": "2ea2f96a-1b76-4a84-8e34-650f6786ae5a",
     "showTitle": false,
     "title": ""
    }
   },
   "outputs": [
    {
     "output_type": "stream",
     "name": "stdout",
     "output_type": "stream",
     "text": [
      "+-------+------------------+\n|CARRIER|         avg_delay|\n+-------+------------------+\n|     UA|              20.0|\n|     AA|15.666666666666666|\n|     DL|             21.25|\n+-------+------------------+\n\n+-------+----------+-------+------+----+-----------------+-----------------+\n|summary|   FL_DATE|CARRIER|ORIGIN|DEST|        DEP_DELAY|        ARR_DELAY|\n+-------+----------+-------+------+----+-----------------+-----------------+\n|  count|         8|      8|     8|   8|                8|                8|\n|   mean|      NULL|   NULL|  NULL|NULL|             11.5|             19.0|\n| stddev|      NULL|   NULL|  NULL|NULL|6.164414002968976|7.131419413913534|\n|    min|2023-09-01|     AA|   ATL| ATL|               10|               10|\n|    max|2023-09-05|     UA|   SFO| SFO|                7|               30|\n+-------+----------+-------+------+----+-----------------+-----------------+\n\n"
     ]
    }
   ],
   "source": [
    "from pyspark.sql.functions import avg\n",
    "df_group=df.groupBy(\"CARRIER\").agg(avg(\"ARR_DELAY\").alias(\"avg_delay\"))\n",
    "df_group.show()\n",
    "# find min,max,mean value for avg_delay\n",
    "df.describe().show()"
   ]
  },
  {
   "cell_type": "code",
   "execution_count": 0,
   "metadata": {
    "application/vnd.databricks.v1+cell": {
     "cellMetadata": {
      "byteLimit": 2048000,
      "rowLimit": 10000
     },
     "inputWidgets": {},
     "nuid": "03c726bd-7893-49df-a522-442c8e7b6e28",
     "showTitle": false,
     "title": ""
    }
   },
   "outputs": [
    {
     "output_type": "execute_result",
     "data": {
      "text/plain": [
       "<Axes: xlabel='CARRIER'>"
      ]
     },
     "execution_count": 25,
     "metadata": {},
     "output_type": "execute_result"
    },
    {
     "output_type": "display_data",
     "data": {
      "image/png": "[encoded data removed]",
      "text/plain": [
       "<Figure size 640x480 with 1 Axes>"
      ]
     },
     "metadata": {},
     "output_type": "display_data"
    }
   ],
   "source": [
    "#create a bar graph showing the total count of entries for each category (eg: total number of flights per carrier)\n",
    "df_group.toPandas().plot.bar(x='CARRIER', y='avg_delay')\n",
    "#create"
   ]
  }
 ],
 "metadata": {
  "application/vnd.databricks.v1+notebook": {
   "dashboards": [],
   "environmentMetadata": {
    "base_environment": "",
    "client": "1"
   },
   "language": "python",
   "notebookMetadata": {
    "pythonIndentUnit": 4
   },
   "notebookName": "Bar Graph",
   "widgets": {}
  }
 },
 "nbformat": 4,
 "nbformat_minor": 0
}
