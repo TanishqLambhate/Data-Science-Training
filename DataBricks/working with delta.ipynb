{
 "cells": [
  {
   "cell_type": "code",
   "execution_count": 0,
   "metadata": {
    "application/vnd.databricks.v1+cell": {
     "cellMetadata": {
      "byteLimit": 2048000,
      "rowLimit": 10000
     },
     "inputWidgets": {},
     "nuid": "98dd2a26-b636-479b-a79d-92882d901219",
     "showTitle": false,
     "title": ""
    }
   },
   "outputs": [],
   "source": [
    "# move the file from workspace to DBFS\n",
    "dbutils.fs.cp(\"file:/Workspace/Shared/employee_data.csv\",\"dbfs:/FileStore/employee_data.csv\")\n",
    "\n",
    "#Load CSV data into a DataFrame\n",
    "df_employee=spark.read.format(\"csv\").option(\"header\",\"true\").load(\"/FileStore/employee_data.csv\")\n",
    "\n",
    "#Write DataFrame to Delta format\n",
    "df_employee.write.format(\"delta\").save(\"/delta/employee_data\")"
   ]
  },
  {
   "cell_type": "code",
   "execution_count": 0,
   "metadata": {
    "application/vnd.databricks.v1+cell": {
     "cellMetadata": {
      "byteLimit": 2048000,
      "rowLimit": 10000
     },
     "inputWidgets": {},
     "nuid": "e1c6a176-f9bc-4fd7-9b3e-1741094f2c13",
     "showTitle": false,
     "title": ""
    }
   },
   "outputs": [
    {
     "output_type": "stream",
     "name": "stdout",
     "output_type": "stream",
     "text": [
      "+---------+-----------+--------+-----+-----+\n|ProductID|ProductName|Category|Price|Stock|\n+---------+-----------+--------+-----+-----+\n|     NULL|       NULL|    NULL| NULL| NULL|\n|     NULL|       NULL|    NULL| NULL| NULL|\n|     NULL|       NULL|    NULL| NULL| NULL|\n|     NULL|       NULL|    NULL| NULL| NULL|\n|     NULL|       NULL|    NULL| NULL| NULL|\n|     NULL|       NULL|    NULL| NULL| NULL|\n|     NULL|       NULL|    NULL| NULL| NULL|\n|     NULL|       NULL|    NULL| NULL| NULL|\n|     NULL|       NULL|    NULL| NULL| NULL|\n|     NULL|       NULL|    NULL| NULL| NULL|\n|     NULL|       NULL|    NULL| NULL| NULL|\n|     NULL|       NULL|    NULL| NULL| NULL|\n|     NULL|       NULL|    NULL| NULL| NULL|\n|     NULL|       NULL|    NULL| NULL| NULL|\n|     NULL|       NULL|    NULL| NULL| NULL|\n|     NULL|       NULL|    NULL| NULL| NULL|\n|     NULL|       NULL|    NULL| NULL| NULL|\n|     NULL|       NULL|    NULL| NULL| NULL|\n|     NULL|       NULL|    NULL| NULL| NULL|\n|     NULL|       NULL|    NULL| NULL| NULL|\n+---------+-----------+--------+-----+-----+\nonly showing top 20 rows\n\n"
     ]
    },
    {
     "output_type": "execute_result",
     "data": {
      "text/plain": [
       "DataFrame[num_affected_rows: bigint, num_inserted_rows: bigint]"
      ]
     },
     "execution_count": 2,
     "metadata": {},
     "output_type": "execute_result"
    }
   ],
   "source": [
    "from pyspark.sql.types import StructField, StructType, StringType, IntegerType, DoubleType\n",
    "\n",
    "#Define schema for JSON file\n",
    "schema=StructType([\n",
    "    StructField(\"ProductID\",IntegerType(),True),\n",
    "    StructField(\"ProductName\",StringType(),True),\n",
    "    StructField(\"Category\",IntegerType(),True),\n",
    "    StructField(\"Price\",IntegerType(),True),\n",
    "    StructField(\"Stock\",IntegerType(),True),\n",
    "])\n",
    "# Move the file from Workspace to DBFS\n",
    "dbutils.fs.cp(\"file:/Workspace/Shared/product_data.json\",\"dbfs:/FileStore/product_data.json\")\n",
    "\n",
    "#Load JSON data with schema\n",
    "\n",
    "df_product=spark.read.format(\"json\").schema(schema).load(\"/FileStore/product_data.json\")\n",
    "df_product.show()\n",
    "\n",
    "#Create a temp view for SQL operations\n",
    "df_product.createOrReplaceTempView(\"product_view\")\n",
    "\n",
    "#Create a Delta table from the view\n",
    "spark.sql(\"\"\"CREATE TABLE delta_product_table USING DELTA AS  SELECT * FROM product_view\"\"\")"
   ]
  }
 ],
 "metadata": {
  "application/vnd.databricks.v1+notebook": {
   "dashboards": [],
   "environmentMetadata": {
    "base_environment": "",
    "client": "1"
   },
   "language": "python",
   "notebookMetadata": {
    "pythonIndentUnit": 4
   },
   "notebookName": "working with delta",
   "widgets": {}
  }
 },
 "nbformat": 4,
 "nbformat_minor": 0
}
