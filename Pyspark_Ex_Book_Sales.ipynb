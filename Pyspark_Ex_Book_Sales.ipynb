{
  "nbformat": 4,
  "nbformat_minor": 0,
  "metadata": {
    "colab": {
      "provenance": [],
      "authorship_tag": "ABX9TyPKaBux8KleUXEz8ouGBtkG",
      "include_colab_link": true
    },
    "kernelspec": {
      "name": "python3",
      "display_name": "Python 3"
    },
    "language_info": {
      "name": "python"
    }
  },
  "cells": [
    {
      "cell_type": "markdown",
      "metadata": {
        "id": "view-in-github",
        "colab_type": "text"
      },
      "source": [
        "<a href=\"https://colab.research.google.com/github/TanishqLambhate/Data-Science-Training/blob/pyspark/Pyspark_Ex_Book_Sales.ipynb\" target=\"_parent\"><img src=\"https://colab.research.google.com/assets/colab-badge.svg\" alt=\"Open In Colab\"/></a>"
      ]
    },
    {
      "cell_type": "code",
      "execution_count": null,
      "metadata": {
        "id": "9WUZm3HY1y-r"
      },
      "outputs": [],
      "source": [
        "!pip install pyspark"
      ]
    },
    {
      "cell_type": "code",
      "source": [
        "from pyspark.sql import SparkSession\n",
        "from pyspark.sql.functions import *\n",
        "from pyspark.sql.types import *\n",
        "\n",
        "spark=SparkSession.builder.appName('Book Sales').getOrCreate()\n",
        "csv_file='/content/Book_Sales.csv'\n",
        "df_books=spark.read.csv(csv_file,header=True,inferSchema=True)\n",
        "df_books.show(5)"
      ],
      "metadata": {
        "colab": {
          "base_uri": "https://localhost:8080/"
        },
        "id": "wZo_jcAm2HER",
        "outputId": "fa7dbbe6-cea4-48c0-f300-d88c7315ec53"
      },
      "execution_count": 2,
      "outputs": [
        {
          "output_type": "stream",
          "name": "stdout",
          "text": [
            "+-------+--------------------+-----------------+-----------+----------+--------+----------+\n",
            "|sale_id|          book_title|           author|      genre|sale_price|quantity|      date|\n",
            "+-------+--------------------+-----------------+-----------+----------+--------+----------+\n",
            "|      1|The Catcher in th...|    J.D. Salinger|    Fiction|     15.99|       2|2023-01-05|\n",
            "|      2|To Kill a Mocking...|       Harper Lee|    Fiction|     18.99|       1|2023-01-10|\n",
            "|      3|            Becoming|   Michelle Obama|  Biography|      20.0|       3|2023-02-12|\n",
            "|      4|             Sapiens|Yuval Noah Harari|Non-Fiction|      22.5|       1|2023-02-15|\n",
            "|      5|            Educated|    Tara Westover|  Biography|     17.99|       2|2023-03-10|\n",
            "+-------+--------------------+-----------------+-----------+----------+--------+----------+\n",
            "only showing top 5 rows\n",
            "\n"
          ]
        }
      ]
    },
    {
      "cell_type": "code",
      "source": [
        "# 1. Find Total Sales Revenue per Genre\n",
        "# Group the data by genre and calculate the total sales revenue for each\n",
        "# genre. (Hint: Multiply sale_price by quantity to get total sales for\n",
        "# each book.)\n",
        "df_books.groupBy('genre').agg(sum(col('sale_price')*col('quantity')).alias('total_sales_revenue')).show()\n",
        "# 2. Filter Books Sold in the \"Fiction\" Genre\n",
        "# Filter the dataset to include only books sold in the \"Fiction\" genre.\n",
        "df_books.filter(col('genre')=='Fiction').show()\n",
        "# 3. Find the Book with the Highest Sale Price\n",
        "# Identify the book with the highest individual sale price.\n",
        "df_books.orderBy(col('sale_price').desc()).first()\n",
        "# 4. Calculate Total Quantity of Books Sold by Author\n",
        "# Group the data by author and calculate the total quantity of books sold\n",
        "# for each author.\n",
        "df_books.groupBy('author').agg(sum(col('quantity')).alias('total_quantity_sold')).show()\n"
      ],
      "metadata": {
        "colab": {
          "base_uri": "https://localhost:8080/"
        },
        "id": "plaaBU6S26sr",
        "outputId": "9b2d3b29-049c-44e7-aa48-6262cad7c7af"
      },
      "execution_count": 6,
      "outputs": [
        {
          "output_type": "stream",
          "name": "stdout",
          "text": [
            "+---------------+-------------------+\n",
            "|          genre|total_sales_revenue|\n",
            "+---------------+-------------------+\n",
            "|        Fiction|              135.9|\n",
            "|      Self-Help|              68.97|\n",
            "|Science Fiction|              25.99|\n",
            "|    Non-Fiction|               22.5|\n",
            "|      Biography|  95.97999999999999|\n",
            "+---------------+-------------------+\n",
            "\n",
            "+-------+--------------------+-------------------+-------+----------+--------+----------+\n",
            "|sale_id|          book_title|             author|  genre|sale_price|quantity|      date|\n",
            "+-------+--------------------+-------------------+-------+----------+--------+----------+\n",
            "|      1|The Catcher in th...|      J.D. Salinger|Fiction|     15.99|       2|2023-01-05|\n",
            "|      2|To Kill a Mocking...|         Harper Lee|Fiction|     18.99|       1|2023-01-10|\n",
            "|      6|    The Great Gatsby|F. Scott Fitzgerald|Fiction|     10.99|       5|2023-03-15|\n",
            "|      9|                1984|      George Orwell|Fiction|     14.99|       2|2023-04-12|\n",
            "+-------+--------------------+-------------------+-------+----------+--------+----------+\n",
            "\n",
            "+-------------------+-------------------+\n",
            "|             author|total_quantity_sold|\n",
            "+-------------------+-------------------+\n",
            "|      Frank Herbert|                  1|\n",
            "|         Harper Lee|                  1|\n",
            "|      George Orwell|                  2|\n",
            "|F. Scott Fitzgerald|                  5|\n",
            "|     Michelle Obama|                  3|\n",
            "|      J.D. Salinger|                  2|\n",
            "|     Charles Duhigg|                  1|\n",
            "|  Yuval Noah Harari|                  1|\n",
            "|        James Clear|                  3|\n",
            "|      Tara Westover|                  2|\n",
            "+-------------------+-------------------+\n",
            "\n"
          ]
        }
      ]
    },
    {
      "cell_type": "code",
      "source": [
        "# 5. Identify Sales Transactions Worth More Than $50\n",
        "# Filter the sales transactions where the total sales amount (sale_price *\n",
        "# quantity) is greater than $50.\n",
        "df_books.filter(col('sale_price')*col('quantity')>50).show()\n",
        "\n",
        "# 6. Find the Average Sale Price per Genre\n",
        "# Group the data by genre and calculate the average sale price for books\n",
        "# in each genre.\n",
        "df_books.groupBy('genre').agg(avg(col('sale_price')).alias('average_sale_price')).show()\n",
        "\n",
        "# 7. Count the Number of Unique Authors in the Dataset\n",
        "# Count how many unique authors are present in the dataset.\n",
        "df_count=df_books.select('author').distinct().count()\n",
        "print(f\"The number of unique Authors {df_count}\")\n",
        "# 8. Find the Top 3 Best-Selling Books by Quantity\n",
        "# Identify the top 3 best-selling books based on the total quantity sold.\n",
        "df_books.orderBy(col('quantity').desc()).limit(3).show()\n",
        "\n",
        "# 9. Calculate Total Sales for Each Month\n",
        "# Group the sales data by month and calculate the total sales revenue for\n",
        "# each month.\n",
        "df_books=df_books.withColumn('month',month(col('date')))\n",
        "df_books.groupBy('month').agg(sum(col('sale_price')*col('quantity')).alias('total_sales')).show()\n",
        "# 10. Create a New Column for Total Sales Amount\n",
        "# Add a new column total_sales that calculates the total sales amount for\n",
        "# each transaction ( sale_price * quantity ).\n",
        "df_books=df_books.withColumn('total_sales',col('sale_price')*col('quantity'))\n",
        "df_books.show()\n"
      ],
      "metadata": {
        "colab": {
          "base_uri": "https://localhost:8080/"
        },
        "id": "ley3D6DZ3f1q",
        "outputId": "a32a3f02-9693-4c8c-f331-55769c95f8b4"
      },
      "execution_count": 11,
      "outputs": [
        {
          "output_type": "stream",
          "name": "stdout",
          "text": [
            "+-------+----------------+-------------------+---------+----------+--------+----------+-----+\n",
            "|sale_id|      book_title|             author|    genre|sale_price|quantity|      date|month|\n",
            "+-------+----------------+-------------------+---------+----------+--------+----------+-----+\n",
            "|      3|        Becoming|     Michelle Obama|Biography|      20.0|       3|2023-02-12|    2|\n",
            "|      6|The Great Gatsby|F. Scott Fitzgerald|  Fiction|     10.99|       5|2023-03-15|    3|\n",
            "|      7|   Atomic Habits|        James Clear|Self-Help|     16.99|       3|2023-04-01|    4|\n",
            "+-------+----------------+-------------------+---------+----------+--------+----------+-----+\n",
            "\n",
            "+---------------+------------------+\n",
            "|          genre|average_sale_price|\n",
            "+---------------+------------------+\n",
            "|        Fiction|             15.24|\n",
            "|      Self-Help|17.494999999999997|\n",
            "|Science Fiction|             25.99|\n",
            "|    Non-Fiction|              22.5|\n",
            "|      Biography|18.994999999999997|\n",
            "+---------------+------------------+\n",
            "\n",
            "The number of unique Authors 10\n",
            "+-------+----------------+-------------------+---------+----------+--------+----------+-----+\n",
            "|sale_id|      book_title|             author|    genre|sale_price|quantity|      date|month|\n",
            "+-------+----------------+-------------------+---------+----------+--------+----------+-----+\n",
            "|      6|The Great Gatsby|F. Scott Fitzgerald|  Fiction|     10.99|       5|2023-03-15|    3|\n",
            "|      3|        Becoming|     Michelle Obama|Biography|      20.0|       3|2023-02-12|    2|\n",
            "|      7|   Atomic Habits|        James Clear|Self-Help|     16.99|       3|2023-04-01|    4|\n",
            "+-------+----------------+-------------------+---------+----------+--------+----------+-----+\n",
            "\n",
            "+-----+-----------+\n",
            "|month|total_sales|\n",
            "+-----+-----------+\n",
            "|    1|      50.97|\n",
            "|    3|      90.93|\n",
            "|    5|       18.0|\n",
            "|    4|     106.94|\n",
            "|    2|       82.5|\n",
            "+-----+-----------+\n",
            "\n",
            "+-------+--------------------+-------------------+---------------+----------+--------+----------+-----+-----------+\n",
            "|sale_id|          book_title|             author|          genre|sale_price|quantity|      date|month|total_sales|\n",
            "+-------+--------------------+-------------------+---------------+----------+--------+----------+-----+-----------+\n",
            "|      1|The Catcher in th...|      J.D. Salinger|        Fiction|     15.99|       2|2023-01-05|    1|      31.98|\n",
            "|      2|To Kill a Mocking...|         Harper Lee|        Fiction|     18.99|       1|2023-01-10|    1|      18.99|\n",
            "|      3|            Becoming|     Michelle Obama|      Biography|      20.0|       3|2023-02-12|    2|       60.0|\n",
            "|      4|             Sapiens|  Yuval Noah Harari|    Non-Fiction|      22.5|       1|2023-02-15|    2|       22.5|\n",
            "|      5|            Educated|      Tara Westover|      Biography|     17.99|       2|2023-03-10|    3|      35.98|\n",
            "|      6|    The Great Gatsby|F. Scott Fitzgerald|        Fiction|     10.99|       5|2023-03-15|    3|      54.95|\n",
            "|      7|       Atomic Habits|        James Clear|      Self-Help|     16.99|       3|2023-04-01|    4|      50.97|\n",
            "|      8|                Dune|      Frank Herbert|Science Fiction|     25.99|       1|2023-04-10|    4|      25.99|\n",
            "|      9|                1984|      George Orwell|        Fiction|     14.99|       2|2023-04-12|    4|      29.98|\n",
            "|     10|  The Power of Habit|     Charles Duhigg|      Self-Help|      18.0|       1|2023-05-01|    5|       18.0|\n",
            "+-------+--------------------+-------------------+---------------+----------+--------+----------+-----+-----------+\n",
            "\n"
          ]
        }
      ]
    }
  ]
}