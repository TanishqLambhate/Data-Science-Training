{
  "nbformat": 4,
  "nbformat_minor": 0,
  "metadata": {
    "colab": {
      "provenance": [],
      "authorship_tag": "ABX9TyNUY0xsd8iFxssMX1Himevu",
      "include_colab_link": true
    },
    "kernelspec": {
      "name": "python3",
      "display_name": "Python 3"
    },
    "language_info": {
      "name": "python"
    }
  },
  "cells": [
    {
      "cell_type": "markdown",
      "metadata": {
        "id": "view-in-github",
        "colab_type": "text"
      },
      "source": [
        "<a href=\"https://colab.research.google.com/github/TanishqLambhate/Data-Science-Training/blob/pyspark/Pyspark_Ex_Fitness.ipynb\" target=\"_parent\"><img src=\"https://colab.research.google.com/assets/colab-badge.svg\" alt=\"Open In Colab\"/></a>"
      ]
    },
    {
      "cell_type": "code",
      "execution_count": null,
      "metadata": {
        "id": "b8HWox7mtwyt"
      },
      "outputs": [],
      "source": [
        "!pip install pyspark"
      ]
    },
    {
      "cell_type": "code",
      "source": [
        "from pyspark.sql import SparkSession\n",
        "from pyspark.sql.window import Window\n",
        "from pyspark.sql.functions import col,row_number,rank\n",
        "spark=SparkSession.builder.appName('Fitness').getOrCreate()\n",
        "csv_filepath=\"/content/sample_data/Fitness.csv\"\n",
        "df_fitness=spark.read.csv(csv_filepath,header=True,inferSchema=True)\n",
        "df_fitness.show()"
      ],
      "metadata": {
        "colab": {
          "base_uri": "https://localhost:8080/"
        },
        "id": "IMpE-VqlvmhM",
        "outputId": "f11e554c-65d2-424a-b50e-15f4e93225e8"
      },
      "execution_count": 5,
      "outputs": [
        {
          "output_type": "stream",
          "name": "stdout",
          "text": [
            "+-------+----------+-----+--------+-----------+--------------+\n",
            "|user_id|      date|steps|calories|distance_km|active_minutes|\n",
            "+-------+----------+-----+--------+-----------+--------------+\n",
            "|      1|2023-07-01|12000|     500|        8.5|            90|\n",
            "|      2|2023-07-01| 8000|     350|        5.6|            60|\n",
            "|      3|2023-07-01|15000|     600|       10.2|           120|\n",
            "|      1|2023-07-02|11000|     480|        7.9|            85|\n",
            "|      2|2023-07-02| 9000|     400|        6.2|            70|\n",
            "|      3|2023-07-02|13000|     520|        9.0|           100|\n",
            "|      1|2023-07-03|10000|     450|        7.1|            80|\n",
            "|      2|2023-07-03| 7000|     320|        4.9|            55|\n",
            "|      3|2023-07-03|16000|     620|       11.0|           130|\n",
            "+-------+----------+-----+--------+-----------+--------------+\n",
            "\n"
          ]
        }
      ]
    },
    {
      "cell_type": "code",
      "source": [
        "# Exercises:\n",
        "# 1. Find the Total Steps Taken by Each User\n",
        "# Calculate the total number of steps taken by each user across all days.\n",
        "\n",
        "df_steps=df_fitness.groupBy('user_id').sum('steps')\n",
        "df_steps.show()\n",
        "# 2. Filter Days Where a User Burned More Than 500 Calories\n",
        "# Identify all days where a user burned more than 500 calories.\n",
        "df_caolories=df_fitness.filter(df_fitness['calories']>500)\n",
        "df_caolories.show()\n",
        "# 3. Calculate the Average Distance Traveled by Each User\n",
        "# Calculate the average distance traveled ( distance_km ) by each user\n",
        "# across all days.\n",
        "df_avg=df_fitness.groupBy('user_id').avg('distance_km')\n",
        "df_avg.show()\n",
        "# 4. Identify the Day with the Maximum Steps for Each User\n",
        "# For each user, find the day when they took the maximum number of steps.\n",
        "from pyspark.sql.functions import max\n",
        "df_max=df_fitness.groupBy('user_id').agg(max('steps').alias('max_steps'))\n",
        "df_max.show()"
      ],
      "metadata": {
        "colab": {
          "base_uri": "https://localhost:8080/"
        },
        "id": "LnkPH5QSva6k",
        "outputId": "c25994aa-fd69-4a67-853e-7ccb10d9809a"
      },
      "execution_count": 10,
      "outputs": [
        {
          "output_type": "stream",
          "name": "stdout",
          "text": [
            "+-------+----------+\n",
            "|user_id|sum(steps)|\n",
            "+-------+----------+\n",
            "|      1|     33000|\n",
            "|      3|     44000|\n",
            "|      2|     24000|\n",
            "+-------+----------+\n",
            "\n",
            "+-------+----------+-----+--------+-----------+--------------+\n",
            "|user_id|      date|steps|calories|distance_km|active_minutes|\n",
            "+-------+----------+-----+--------+-----------+--------------+\n",
            "|      3|2023-07-01|15000|     600|       10.2|           120|\n",
            "|      3|2023-07-02|13000|     520|        9.0|           100|\n",
            "|      3|2023-07-03|16000|     620|       11.0|           130|\n",
            "+-------+----------+-----+--------+-----------+--------------+\n",
            "\n",
            "+-------+------------------+\n",
            "|user_id|  avg(distance_km)|\n",
            "+-------+------------------+\n",
            "|      1| 7.833333333333333|\n",
            "|      3|10.066666666666666|\n",
            "|      2| 5.566666666666667|\n",
            "+-------+------------------+\n",
            "\n",
            "+-------+---------+\n",
            "|user_id|max_steps|\n",
            "+-------+---------+\n",
            "|      1|    12000|\n",
            "|      3|    16000|\n",
            "|      2|     9000|\n",
            "+-------+---------+\n",
            "\n"
          ]
        }
      ]
    },
    {
      "cell_type": "code",
      "source": [
        "# 5. Find Users Who Were Active for More Than 100 Minutes on Any Day\n",
        "# Identify users who had active minutes greater than 100 on any day.\n",
        "df_active=df_fitness.filter(df_fitness['active_minutes']>100)\n",
        "df_active.show()\n",
        "\n",
        "# 6. Calculate the Total Calories Burned per Day\n",
        "# Group by date and calculate the total number of calories burned by all\n",
        "df_calories_day=df_fitness.groupBy('date').sum('calories').alias('total_calories_burned')\n",
        "df_calories_day.show()\n",
        "\n",
        "# 7. Calculate the Average Steps per Day\n",
        "# Find the average number of steps taken across all users for each day.\n",
        "df_avg_steps=df_fitness.groupBy('date').avg('steps').alias('average_steps')\n",
        "df_avg_steps.show()\n",
        "# 8. Rank Users by Total Distance Traveled\n",
        "# Rank the users by their total distance traveled, from highest to lowest.\n",
        "\n",
        "ranking_by_distance_traveled = df_fitness.groupBy('user_id').agg({'distance_km': 'sum'}).orderBy('sum(distance_km)', ascending=False)\n",
        "ranking_by_distance_traveled.show()\n",
        "\n",
        "# 9. Find the Most Active User by Total Active Minutes\n",
        "# Identify the user with the highest total active minutes across all days.\n",
        "df_most_active=df_fitness.groupBy('user_id').sum('active_minutes').alias('total_active_minutes')\n",
        "df_most_active.show()\n",
        "# 10. Create a New Column for Calories Burned per Kilometer\n",
        "\n",
        "df_fitness=df_fitness.withColumn('calories_per_km',df_fitness['calories']/df_fitness['distance_km'])\n",
        "df_fitness.show()"
      ],
      "metadata": {
        "colab": {
          "base_uri": "https://localhost:8080/"
        },
        "id": "UXZRRPv4zkHg",
        "outputId": "7d7b86a9-4cff-4646-8e5a-f64c12f0dca3"
      },
      "execution_count": 9,
      "outputs": [
        {
          "output_type": "stream",
          "name": "stdout",
          "text": [
            "+-------+----------+-----+--------+-----------+--------------+\n",
            "|user_id|      date|steps|calories|distance_km|active_minutes|\n",
            "+-------+----------+-----+--------+-----------+--------------+\n",
            "|      3|2023-07-01|15000|     600|       10.2|           120|\n",
            "|      3|2023-07-03|16000|     620|       11.0|           130|\n",
            "+-------+----------+-----+--------+-----------+--------------+\n",
            "\n",
            "+----------+-------------+\n",
            "|      date|sum(calories)|\n",
            "+----------+-------------+\n",
            "|2023-07-02|         1400|\n",
            "|2023-07-03|         1390|\n",
            "|2023-07-01|         1450|\n",
            "+----------+-------------+\n",
            "\n",
            "+----------+------------------+\n",
            "|      date|        avg(steps)|\n",
            "+----------+------------------+\n",
            "|2023-07-02|           11000.0|\n",
            "|2023-07-03|           11000.0|\n",
            "|2023-07-01|11666.666666666666|\n",
            "+----------+------------------+\n",
            "\n",
            "+-------+------------------+\n",
            "|user_id|  sum(distance_km)|\n",
            "+-------+------------------+\n",
            "|      3|              30.2|\n",
            "|      1|              23.5|\n",
            "|      2|16.700000000000003|\n",
            "+-------+------------------+\n",
            "\n",
            "+-------+-------------------+\n",
            "|user_id|sum(active_minutes)|\n",
            "+-------+-------------------+\n",
            "|      1|                255|\n",
            "|      3|                350|\n",
            "|      2|                185|\n",
            "+-------+-------------------+\n",
            "\n",
            "+-------+----------+-----+--------+-----------+--------------+-----------------+\n",
            "|user_id|      date|steps|calories|distance_km|active_minutes|  calories_per_km|\n",
            "+-------+----------+-----+--------+-----------+--------------+-----------------+\n",
            "|      1|2023-07-01|12000|     500|        8.5|            90| 58.8235294117647|\n",
            "|      2|2023-07-01| 8000|     350|        5.6|            60|62.50000000000001|\n",
            "|      3|2023-07-01|15000|     600|       10.2|           120|58.82352941176471|\n",
            "|      1|2023-07-02|11000|     480|        7.9|            85|60.75949367088607|\n",
            "|      2|2023-07-02| 9000|     400|        6.2|            70|64.51612903225806|\n",
            "|      3|2023-07-02|13000|     520|        9.0|           100|57.77777777777778|\n",
            "|      1|2023-07-03|10000|     450|        7.1|            80|63.38028169014085|\n",
            "|      2|2023-07-03| 7000|     320|        4.9|            55| 65.3061224489796|\n",
            "|      3|2023-07-03|16000|     620|       11.0|           130|56.36363636363637|\n",
            "+-------+----------+-----+--------+-----------+--------------+-----------------+\n",
            "\n"
          ]
        }
      ]
    }
  ]
}