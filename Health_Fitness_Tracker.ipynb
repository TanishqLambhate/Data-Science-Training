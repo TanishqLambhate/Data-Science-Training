{
  "nbformat": 4,
  "nbformat_minor": 0,
  "metadata": {
    "colab": {
      "provenance": [],
      "authorship_tag": "ABX9TyPeZMhJKLAymdXrduYyEaPt",
      "include_colab_link": true
    },
    "kernelspec": {
      "name": "python3",
      "display_name": "Python 3"
    },
    "language_info": {
      "name": "python"
    }
  },
  "cells": [
    {
      "cell_type": "markdown",
      "metadata": {
        "id": "view-in-github",
        "colab_type": "text"
      },
      "source": [
        "<a href=\"https://colab.research.google.com/github/TanishqLambhate/Data-Science-Training/blob/pyspark_coding_challenge/Health_Fitness_Tracker.ipynb\" target=\"_parent\"><img src=\"https://colab.research.google.com/assets/colab-badge.svg\" alt=\"Open In Colab\"/></a>"
      ]
    },
    {
      "cell_type": "code",
      "execution_count": null,
      "metadata": {
        "id": "SzU2q8p2WC4J"
      },
      "outputs": [],
      "source": [
        "!pip install pyspark"
      ]
    },
    {
      "cell_type": "code",
      "source": [
        "from pyspark.sql import SparkSession\n",
        "from pyspark.sql.functions import *\n",
        "\n",
        "spark=SparkSession.builder.appName('Coding Challenge').getOrCreate()\n",
        "csv_path=\"/content/Health_Fitness.csv\"\n",
        "df=spark.read.csv(csv_path,header=True,inferSchema=True)\n",
        "df.show()"
      ],
      "metadata": {
        "colab": {
          "base_uri": "https://localhost:8080/"
        },
        "id": "JThJFG7zWcg3",
        "outputId": "bcae6ae2-10f4-4f16-e75e-ea1d2c4ca569"
      },
      "execution_count": 2,
      "outputs": [
        {
          "output_type": "stream",
          "name": "stdout",
          "text": [
            "+-------+----------+-----+---------------+--------------+------------+\n",
            "|user_id|      date|steps|calories_burned|hours_of_sleep|workout_type|\n",
            "+-------+----------+-----+---------------+--------------+------------+\n",
            "|      1|2023-09-01|12000|            500|           7.0|      Cardio|\n",
            "|      2|2023-09-01| 8000|            400|           6.5|    Strength|\n",
            "|      3|2023-09-01|15000|            650|           8.0|        Yoga|\n",
            "|      1|2023-09-02|10000|            450|           6.0|      Cardio|\n",
            "|      2|2023-09-02| 9500|            500|           7.0|      Cardio|\n",
            "|      3|2023-09-02|14000|            600|           7.5|    Strength|\n",
            "|      1|2023-09-03|13000|            550|           8.0|        Yoga|\n",
            "|      2|2023-09-03|12000|            520|           6.5|        Yoga|\n",
            "|      3|2023-09-03|16000|            700|           7.0|      Cardio|\n",
            "+-------+----------+-----+---------------+--------------+------------+\n",
            "\n"
          ]
        }
      ]
    },
    {
      "cell_type": "code",
      "source": [
        "# 1. Find the Total Steps Taken by Each User\n",
        "# Group the data by user_id and calculate the total steps taken by each\n",
        "# user across all days.\n",
        "df.groupBy(\"user_id\").agg(sum(\"steps\")).show()\n",
        "\n",
        "# 2. Filter Days with More Than 10,000 Steps\n",
        "# Filter the dataset to show only the days where the user took more than\n",
        "# 10,000 steps.\n",
        "df.filter(col(\"steps\")>10000).show()\n",
        "\n",
        "# 3. Calculate the Average Calories Burned by Workout Type\n",
        "# Group the data by workout_type and calculate the average calories\n",
        "# burned for each workout type.\n",
        "df.groupBy(\"workout_type\").agg(avg(\"calories_burned\")).show()\n",
        "\n",
        "# 4. Identify the Day with the Most Steps for Each User\n",
        "# For each user, find the day when they took the most steps.\n",
        "df.groupBy(\"user_id\").agg(max(\"steps\")).show()\n",
        "\n",
        "# 5. Find Users Who Burned More Than 600 Calories on Any Day\n",
        "# Filter the data to show only the users who burned more than 600 calories\n",
        "# on any day.\n",
        "df.filter(col(\"calories_burned\")>600).show()\n",
        "\n"
      ],
      "metadata": {
        "colab": {
          "base_uri": "https://localhost:8080/"
        },
        "id": "rEETD17tWjL2",
        "outputId": "c11cd228-60da-4989-c468-e4881dea7bc5"
      },
      "execution_count": 8,
      "outputs": [
        {
          "output_type": "stream",
          "name": "stdout",
          "text": [
            "+-------+----------+\n",
            "|user_id|sum(steps)|\n",
            "+-------+----------+\n",
            "|      1|     35000|\n",
            "|      3|     45000|\n",
            "|      2|     29500|\n",
            "+-------+----------+\n",
            "\n",
            "+-------+----------+-----+---------------+--------------+------------+\n",
            "|user_id|      date|steps|calories_burned|hours_of_sleep|workout_type|\n",
            "+-------+----------+-----+---------------+--------------+------------+\n",
            "|      1|2023-09-01|12000|            500|           7.0|      Cardio|\n",
            "|      3|2023-09-01|15000|            650|           8.0|        Yoga|\n",
            "|      3|2023-09-02|14000|            600|           7.5|    Strength|\n",
            "|      1|2023-09-03|13000|            550|           8.0|        Yoga|\n",
            "|      2|2023-09-03|12000|            520|           6.5|        Yoga|\n",
            "|      3|2023-09-03|16000|            700|           7.0|      Cardio|\n",
            "+-------+----------+-----+---------------+--------------+------------+\n",
            "\n",
            "+------------+--------------------+\n",
            "|workout_type|avg(calories_burned)|\n",
            "+------------+--------------------+\n",
            "|    Strength|               500.0|\n",
            "|        Yoga|   573.3333333333334|\n",
            "|      Cardio|               537.5|\n",
            "+------------+--------------------+\n",
            "\n",
            "+-------+----------+\n",
            "|user_id|max(steps)|\n",
            "+-------+----------+\n",
            "|      1|     13000|\n",
            "|      3|     16000|\n",
            "|      2|     12000|\n",
            "+-------+----------+\n",
            "\n",
            "+-------+----------+-----+---------------+--------------+------------+\n",
            "|user_id|      date|steps|calories_burned|hours_of_sleep|workout_type|\n",
            "+-------+----------+-----+---------------+--------------+------------+\n",
            "|      3|2023-09-01|15000|            650|           8.0|        Yoga|\n",
            "|      3|2023-09-03|16000|            700|           7.0|      Cardio|\n",
            "+-------+----------+-----+---------------+--------------+------------+\n",
            "\n"
          ]
        }
      ]
    },
    {
      "cell_type": "code",
      "source": [
        "# 6. Calculate the Average Hours of Sleep per User\n",
        "# Group the data by user_id and calculate the average hours of sleep for\n",
        "# each user.\n",
        "df.groupBy(\"user_id\").agg(avg(\"hours_of_sleep\")).show()\n",
        "\n",
        "# 7. Find the Total Calories Burned per Day\n",
        "# Group the data by date and calculate the total calories burned by all\n",
        "# users combined for each day.\n",
        "df.groupBy(\"date\").agg(sum(\"calories_burned\")).show()\n",
        "\n",
        "# 8. Identify Users Who Did Different Types of Workouts\n",
        "# Identify users who participated in more than one type of workout.\n",
        "df.groupBy(\"user_id\").agg(countDistinct(\"workout_type\")).show()\n",
        "\n",
        "# 9. Calculate the Total Number of Workouts per User\n",
        "# Group the data by user_id and count the total number of workouts\n",
        "# completed by each user.\n",
        "df.groupBy(\"user_id\").agg(count(\"workout_type\")).show()\n",
        "\n",
        "# 10. Create a New Column for \"Active\" Days\n",
        "# Add a new column called active_day that classifies a day as \"Active\" if\n",
        "# the user took more than 10,000 steps, otherwise classify it as\n",
        "# \"Inactive.\"\n",
        "df=df.withColumn(\"active_day\",when(col(\"steps\")>10000,\"Active\").otherwise(\"Inactive\"))\n",
        "df.show()"
      ],
      "metadata": {
        "colab": {
          "base_uri": "https://localhost:8080/"
        },
        "id": "c3pGs35NXZTQ",
        "outputId": "518f2072-0164-4144-916b-b0bdb424fc63"
      },
      "execution_count": 13,
      "outputs": [
        {
          "output_type": "stream",
          "name": "stdout",
          "text": [
            "+-------+-------------------+\n",
            "|user_id|avg(hours_of_sleep)|\n",
            "+-------+-------------------+\n",
            "|      1|                7.0|\n",
            "|      3|                7.5|\n",
            "|      2|  6.666666666666667|\n",
            "+-------+-------------------+\n",
            "\n",
            "+----------+--------------------+\n",
            "|      date|sum(calories_burned)|\n",
            "+----------+--------------------+\n",
            "|2023-09-03|                1770|\n",
            "|2023-09-01|                1550|\n",
            "|2023-09-02|                1550|\n",
            "+----------+--------------------+\n",
            "\n",
            "+-------+----------------------------+\n",
            "|user_id|count(DISTINCT workout_type)|\n",
            "+-------+----------------------------+\n",
            "|      1|                           2|\n",
            "|      3|                           3|\n",
            "|      2|                           3|\n",
            "+-------+----------------------------+\n",
            "\n",
            "+-------+-------------------+\n",
            "|user_id|count(workout_type)|\n",
            "+-------+-------------------+\n",
            "|      1|                  3|\n",
            "|      3|                  3|\n",
            "|      2|                  3|\n",
            "+-------+-------------------+\n",
            "\n",
            "+-------+----------+-----+---------------+--------------+------------+----------+\n",
            "|user_id|      date|steps|calories_burned|hours_of_sleep|workout_type|active_day|\n",
            "+-------+----------+-----+---------------+--------------+------------+----------+\n",
            "|      1|2023-09-01|12000|            500|           7.0|      Cardio|    Active|\n",
            "|      2|2023-09-01| 8000|            400|           6.5|    Strength|  Inactive|\n",
            "|      3|2023-09-01|15000|            650|           8.0|        Yoga|    Active|\n",
            "|      1|2023-09-02|10000|            450|           6.0|      Cardio|  Inactive|\n",
            "|      2|2023-09-02| 9500|            500|           7.0|      Cardio|  Inactive|\n",
            "|      3|2023-09-02|14000|            600|           7.5|    Strength|    Active|\n",
            "|      1|2023-09-03|13000|            550|           8.0|        Yoga|    Active|\n",
            "|      2|2023-09-03|12000|            520|           6.5|        Yoga|    Active|\n",
            "|      3|2023-09-03|16000|            700|           7.0|      Cardio|    Active|\n",
            "+-------+----------+-----+---------------+--------------+------------+----------+\n",
            "\n"
          ]
        }
      ]
    }
  ]
}