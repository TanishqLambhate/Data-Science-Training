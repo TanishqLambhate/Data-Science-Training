{
  "nbformat": 4,
  "nbformat_minor": 0,
  "metadata": {
    "colab": {
      "provenance": [],
      "authorship_tag": "ABX9TyN6n2d0tZtDKDY6Ln7VhzaQ",
      "include_colab_link": true
    },
    "kernelspec": {
      "name": "python3",
      "display_name": "Python 3"
    },
    "language_info": {
      "name": "python"
    }
  },
  "cells": [
    {
      "cell_type": "markdown",
      "metadata": {
        "id": "view-in-github",
        "colab_type": "text"
      },
      "source": [
        "<a href=\"https://colab.research.google.com/github/TanishqLambhate/Data-Science-Training/blob/pyspark/Pyspark_movies_excercise.ipynb\" target=\"_parent\"><img src=\"https://colab.research.google.com/assets/colab-badge.svg\" alt=\"Open In Colab\"/></a>"
      ]
    },
    {
      "cell_type": "code",
      "execution_count": null,
      "metadata": {
        "id": "A_kERGfi-pwN"
      },
      "outputs": [],
      "source": [
        "! pip install pyspark"
      ]
    },
    {
      "cell_type": "code",
      "source": [
        "# ### **Exercise: PySpark Data Transformations on Movie Data**\n",
        "\n",
        "# #### **Objective:**\n",
        "# You have a dataset containing movie details. The goal is to use PySpark to apply data transformations to derive insights.\n",
        "\n",
        "# #### **Dataset**:\n",
        "\n",
        "# Here’s a sample dataset of movies (save this as a CSV file if necessary):\n",
        "\n",
        "# ```csv\n",
        "# movie_id,title,genre,rating,box_office,date\n",
        "# 1,Inception,Sci-Fi,8.8,830000000,2010-07-16\n",
        "# 2,The Dark Knight,Action,9.0,1004000000,2008-07-18\n",
        "# 3,Interstellar,Sci-Fi,8.6,677000000,2014-11-07\n",
        "# 4,Avengers: Endgame,Action,8.4,2797000000,2019-04-26\n",
        "# 5,The Lion King,Animation,8.5,1657000000,1994-06-15\n",
        "# 6,Toy Story 4,Animation,7.8,1073000000,2019-06-21\n",
        "# 7,Frozen II,Animation,7.0,1450000000,2019-11-22\n",
        "# 8,Joker,Drama,8.5,1074000000,2019-10-04\n",
        "# 9,Parasite,Drama,8.6,258000000,2019-05-30\n",
        "# ```\n"
      ],
      "metadata": {
        "id": "sXbjwzTJ-twX"
      },
      "execution_count": null,
      "outputs": []
    },
    {
      "cell_type": "code",
      "source": [
        "# ### **Tasks**:\n",
        "\n",
        "# 1. **Load the Dataset**:\n",
        "#    - Read the CSV file into a PySpark DataFrame.\n",
        "\n",
        "from pyspark.sql import SparkSession\n",
        "spark=SparkSession.builder.appName('Movies').getOrCreate()\n",
        "csv_file_path = \"/content/sample_data/movies.csv\"\n",
        "df_movies=spark.read.format(\"csv\").option(\"header\",\"true\").load(csv_file_path)\n",
        "df_movies.show()\n",
        "\n",
        "# 2. **Filter Movies by Genre**:\n",
        "#    - Find all movies in the \"Sci-Fi\" genre.\n",
        "\n",
        "df_gener=df_movies.filter(df_movies.genre==\"Sci-Fi\")\n",
        "df_gener.show()\n",
        "\n",
        "# 3. **Top-Rated Movies**:\n",
        "#    - Find the top 3 highest-rated movies.\n",
        "df_top=df_movies.orderBy(df_movies.rating.desc()).limit(3)\n",
        "df_top.show()\n",
        "\n",
        "# 4. **Movies Released After 2010**:\n",
        "#    - Filter out all movies released after the year 2010.\n",
        "\n",
        "df_after_2010=df_movies.filter(df_movies.date>\"2010-01-01\")\n",
        "df_after_2010.show()"
      ],
      "metadata": {
        "colab": {
          "base_uri": "https://localhost:8080/"
        },
        "id": "h167oWl9_GyW",
        "outputId": "e3396481-909b-48cd-ab20-b0a610cf7e3a"
      },
      "execution_count": null,
      "outputs": [
        {
          "output_type": "stream",
          "name": "stdout",
          "text": [
            "+--------+-----------------+---------+------+----------+----------+\n",
            "|movie_id|            title|    genre|rating|box_office|      date|\n",
            "+--------+-----------------+---------+------+----------+----------+\n",
            "|       1|        Inception|   Sci-Fi|   8.8| 830000000|2010-07-16|\n",
            "|       2|  The Dark Knight|   Action|   9.0|1004000000|2008-07-18|\n",
            "|       3|     Interstellar|   Sci-Fi|   8.6| 677000000|2014-11-07|\n",
            "|       4|Avengers: Endgame|   Action|   8.4|2797000000|2019-04-26|\n",
            "|       5|    The Lion King|Animation|   8.5|1657000000|1994-06-15|\n",
            "|       6|      Toy Story 4|Animation|   7.8|1073000000|2019-06-21|\n",
            "|       7|        Frozen II|Animation|   7.0|1450000000|2019-11-22|\n",
            "|       8|            Joker|    Drama|   8.5|1074000000|2019-10-04|\n",
            "|       9|         Parasite|    Drama|   8.6| 258000000|2019-05-30|\n",
            "+--------+-----------------+---------+------+----------+----------+\n",
            "\n",
            "+--------+------------+------+------+----------+----------+\n",
            "|movie_id|       title| genre|rating|box_office|      date|\n",
            "+--------+------------+------+------+----------+----------+\n",
            "|       1|   Inception|Sci-Fi|   8.8| 830000000|2010-07-16|\n",
            "|       3|Interstellar|Sci-Fi|   8.6| 677000000|2014-11-07|\n",
            "+--------+------------+------+------+----------+----------+\n",
            "\n",
            "+--------+---------------+------+------+----------+----------+\n",
            "|movie_id|          title| genre|rating|box_office|      date|\n",
            "+--------+---------------+------+------+----------+----------+\n",
            "|       2|The Dark Knight|Action|   9.0|1004000000|2008-07-18|\n",
            "|       1|      Inception|Sci-Fi|   8.8| 830000000|2010-07-16|\n",
            "|       3|   Interstellar|Sci-Fi|   8.6| 677000000|2014-11-07|\n",
            "+--------+---------------+------+------+----------+----------+\n",
            "\n",
            "+--------+-----------------+---------+------+----------+----------+\n",
            "|movie_id|            title|    genre|rating|box_office|      date|\n",
            "+--------+-----------------+---------+------+----------+----------+\n",
            "|       1|        Inception|   Sci-Fi|   8.8| 830000000|2010-07-16|\n",
            "|       3|     Interstellar|   Sci-Fi|   8.6| 677000000|2014-11-07|\n",
            "|       4|Avengers: Endgame|   Action|   8.4|2797000000|2019-04-26|\n",
            "|       6|      Toy Story 4|Animation|   7.8|1073000000|2019-06-21|\n",
            "|       7|        Frozen II|Animation|   7.0|1450000000|2019-11-22|\n",
            "|       8|            Joker|    Drama|   8.5|1074000000|2019-10-04|\n",
            "|       9|         Parasite|    Drama|   8.6| 258000000|2019-05-30|\n",
            "+--------+-----------------+---------+------+----------+----------+\n",
            "\n"
          ]
        }
      ]
    },
    {
      "cell_type": "code",
      "source": [
        "# 5. **Calculate Average Box Office Collection by Genre**:\n",
        "#    - Group the movies by `genre` and calculate the average box office collection for each genre.\n",
        "\n",
        "df_collection=df_movies.groupBy(\"genre\").agg({\"box_office\":\"avg\"})\n",
        "df_collection.show()\n",
        "\n",
        "# 6. **Add a New Column for Box Office in Billions**:\n",
        "#    - Add a new column that shows the box office collection in billions.\n",
        "\n",
        "df_billions=df_movies.withColumn(\"box_office_in_billions\",df_movies.box_office/1000000000)\n",
        "df_billions.show()\n",
        "\n",
        "# 7. **Sort Movies by Box Office Collection**:\n",
        "#    - Sort the movies in descending order based on their box office collection.\n",
        "\n",
        "df_sort_movies=df_movies.orderBy(df_movies.box_office.desc())\n",
        "df_sort_movies.show()\n",
        "\n",
        "# 8. **Count the Number of Movies per Genre**:\n",
        "#    - Count the number of movies in each genre.\n",
        "\n",
        "df_count=df_movies.groupBy(\"genre\").count()\n",
        "df_count.show()"
      ],
      "metadata": {
        "colab": {
          "base_uri": "https://localhost:8080/"
        },
        "id": "cJ0gAB7fCBbc",
        "outputId": "257022bb-a791-4f4f-8dee-637913dcb1c9"
      },
      "execution_count": null,
      "outputs": [
        {
          "output_type": "stream",
          "name": "stdout",
          "text": [
            "+---------+--------------------+\n",
            "|    genre|     avg(box_office)|\n",
            "+---------+--------------------+\n",
            "|    Drama|              6.66E8|\n",
            "|Animation|1.3933333333333333E9|\n",
            "|   Action|            1.9005E9|\n",
            "|   Sci-Fi|             7.535E8|\n",
            "+---------+--------------------+\n",
            "\n",
            "+--------+-----------------+---------+------+----------+----------+----------------------+\n",
            "|movie_id|            title|    genre|rating|box_office|      date|box_office_in_billions|\n",
            "+--------+-----------------+---------+------+----------+----------+----------------------+\n",
            "|       1|        Inception|   Sci-Fi|   8.8| 830000000|2010-07-16|                  0.83|\n",
            "|       2|  The Dark Knight|   Action|   9.0|1004000000|2008-07-18|                 1.004|\n",
            "|       3|     Interstellar|   Sci-Fi|   8.6| 677000000|2014-11-07|                 0.677|\n",
            "|       4|Avengers: Endgame|   Action|   8.4|2797000000|2019-04-26|                 2.797|\n",
            "|       5|    The Lion King|Animation|   8.5|1657000000|1994-06-15|                 1.657|\n",
            "|       6|      Toy Story 4|Animation|   7.8|1073000000|2019-06-21|                 1.073|\n",
            "|       7|        Frozen II|Animation|   7.0|1450000000|2019-11-22|                  1.45|\n",
            "|       8|            Joker|    Drama|   8.5|1074000000|2019-10-04|                 1.074|\n",
            "|       9|         Parasite|    Drama|   8.6| 258000000|2019-05-30|                 0.258|\n",
            "+--------+-----------------+---------+------+----------+----------+----------------------+\n",
            "\n",
            "+--------+-----------------+---------+------+----------+----------+\n",
            "|movie_id|            title|    genre|rating|box_office|      date|\n",
            "+--------+-----------------+---------+------+----------+----------+\n",
            "|       1|        Inception|   Sci-Fi|   8.8| 830000000|2010-07-16|\n",
            "|       3|     Interstellar|   Sci-Fi|   8.6| 677000000|2014-11-07|\n",
            "|       4|Avengers: Endgame|   Action|   8.4|2797000000|2019-04-26|\n",
            "|       9|         Parasite|    Drama|   8.6| 258000000|2019-05-30|\n",
            "|       5|    The Lion King|Animation|   8.5|1657000000|1994-06-15|\n",
            "|       7|        Frozen II|Animation|   7.0|1450000000|2019-11-22|\n",
            "|       8|            Joker|    Drama|   8.5|1074000000|2019-10-04|\n",
            "|       6|      Toy Story 4|Animation|   7.8|1073000000|2019-06-21|\n",
            "|       2|  The Dark Knight|   Action|   9.0|1004000000|2008-07-18|\n",
            "+--------+-----------------+---------+------+----------+----------+\n",
            "\n",
            "+---------+-----+\n",
            "|    genre|count|\n",
            "+---------+-----+\n",
            "|    Drama|    2|\n",
            "|Animation|    3|\n",
            "|   Action|    2|\n",
            "|   Sci-Fi|    2|\n",
            "+---------+-----+\n",
            "\n"
          ]
        }
      ]
    }
  ]
}