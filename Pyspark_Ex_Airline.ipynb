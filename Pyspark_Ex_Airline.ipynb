{
  "nbformat": 4,
  "nbformat_minor": 0,
  "metadata": {
    "colab": {
      "provenance": [],
      "authorship_tag": "ABX9TyM9bZsyE/RjQHkTD1NijOVu",
      "include_colab_link": true
    },
    "kernelspec": {
      "name": "python3",
      "display_name": "Python 3"
    },
    "language_info": {
      "name": "python"
    }
  },
  "cells": [
    {
      "cell_type": "markdown",
      "metadata": {
        "id": "view-in-github",
        "colab_type": "text"
      },
      "source": [
        "<a href=\"https://colab.research.google.com/github/TanishqLambhate/Data-Science-Training/blob/pyspark/Pyspark_Ex_Airline.ipynb\" target=\"_parent\"><img src=\"https://colab.research.google.com/assets/colab-badge.svg\" alt=\"Open In Colab\"/></a>"
      ]
    },
    {
      "cell_type": "code",
      "execution_count": null,
      "metadata": {
        "id": "trD3YYtBFMBj"
      },
      "outputs": [],
      "source": [
        "!pip install pyspark\n"
      ]
    },
    {
      "cell_type": "code",
      "source": [
        "from pyspark.sql import SparkSession\n",
        "from pyspark.sql.functions import *\n",
        "\n",
        "spark = SparkSession.builder.appName('test').getOrCreate()\n",
        "csv_file=\"/content/Airline.csv\"\n",
        "df=spark.read.csv(csv_file,header=True,inferSchema=True)\n",
        "df.show()"
      ],
      "metadata": {
        "colab": {
          "base_uri": "https://localhost:8080/"
        },
        "id": "qHkoVZubFQGN",
        "outputId": "baff87ba-9260-4738-e65a-b649e56f2f53"
      },
      "execution_count": 15,
      "outputs": [
        {
          "output_type": "stream",
          "name": "stdout",
          "text": [
            "+---------+---------+-------------+------+-----------+-------------------+-------------------+---------+--------+----------+\n",
            "|flight_id|  airline|flight_number|origin|destination|     departure_time|       arrival_time|delay_min|distance|      date|\n",
            "+---------+---------+-------------+------+-----------+-------------------+-------------------+---------+--------+----------+\n",
            "|        1|    Delta|        DL123|   JFK|        LAX|2024-09-09 08:00:00|2024-09-09 11:00:00|       30|    3970|01-07-2023|\n",
            "|        2|   United|        UA456|   SFO|        ORD|2024-09-09 09:30:00|2024-09-09 15:00:00|       45|    2960|01-07-2023|\n",
            "|        3|Southwest|        SW789|   DAL|        ATL|2024-09-09 06:00:00|2024-09-09 08:30:00|        0|    1150|01-07-2023|\n",
            "|        4|    Delta|        DL124|   LAX|        JFK|2024-09-09 12:00:00|2024-09-09 20:00:00|       20|    3970|02-07-2023|\n",
            "|        5| American|        AA101|   MIA|        DEN|2024-09-09 07:00:00|2024-09-09 10:00:00|       15|    2770|02-07-2023|\n",
            "|        6|   United|        UA457|   ORD|        SFO|2024-09-09 11:00:00|2024-09-09 14:30:00|        0|    2960|02-07-2023|\n",
            "|        7|  JetBlue|        JB302|   BOS|        LAX|2024-09-09 06:30:00|2024-09-09 09:45:00|       10|    4180|03-07-2023|\n",
            "|        8| American|        AA102|   DEN|        MIA|2024-09-09 11:00:00|2024-09-09 14:00:00|       25|    2770|03-07-2023|\n",
            "|        9|Southwest|        SW790|   ATL|        DAL|2024-09-09 09:00:00|2024-09-09 11:00:00|        5|    1150|03-07-2023|\n",
            "|       10|    Delta|        DL125|   JFK|        SEA|2024-09-09 13:00:00|2024-09-09 17:00:00|        0|    3900|04-07-2023|\n",
            "+---------+---------+-------------+------+-----------+-------------------+-------------------+---------+--------+----------+\n",
            "\n"
          ]
        }
      ]
    },
    {
      "cell_type": "code",
      "source": [
        "# 1. Find the Total Distance Traveled by Each Airline\n",
        "# Group the data by airline and calculate the total distance traveled for\n",
        "# each airline.\n",
        "df.groupBy(\"airline\").agg(sum(\"distance\").alias(\"TotalDistance\")).show()\n",
        "\n",
        "# 2. Filter Flights with Delays Greater than 30 Minutes\n",
        "# Filter the dataset to show only flights where the delay was greater than\n",
        "# 30 minutes.\n",
        "df.filter(col(\"delay_min\") > 30).show()\n",
        "\n",
        "# 3. Find the Flight with the Longest Distance\n",
        "# Identify the flight that covered the longest distance.\n",
        "df.orderBy(col(\"distance\").desc()).first()\n",
        "\n",
        "# 4. Calculate the Average Delay Time for Each Airline\n",
        "# Group the data by airline and calculate the average delay time in\n",
        "# minutes for each airline.\n",
        "df.groupBy(\"airline\").agg(avg(\"delay_min\").alias(\"AverageDelay\")).show()\n",
        "\n",
        "# 5. Identify Flights That Were Not Delayed\n",
        "# Filter the dataset to show only flights with delay_minutes = 0 .\n",
        "df.filter(col(\"delay_min\") == 0).show()\n"
      ],
      "metadata": {
        "colab": {
          "base_uri": "https://localhost:8080/"
        },
        "id": "Fcmo8jEjFiSv",
        "outputId": "1e2a1153-880d-481c-a9de-c59aa582b863"
      },
      "execution_count": 16,
      "outputs": [
        {
          "output_type": "stream",
          "name": "stdout",
          "text": [
            "+---------+-------------+\n",
            "|  airline|TotalDistance|\n",
            "+---------+-------------+\n",
            "|    Delta|        11840|\n",
            "|   United|         5920|\n",
            "|  JetBlue|         4180|\n",
            "|Southwest|         2300|\n",
            "| American|         5540|\n",
            "+---------+-------------+\n",
            "\n",
            "+---------+-------+-------------+------+-----------+-------------------+-------------------+---------+--------+----------+\n",
            "|flight_id|airline|flight_number|origin|destination|     departure_time|       arrival_time|delay_min|distance|      date|\n",
            "+---------+-------+-------------+------+-----------+-------------------+-------------------+---------+--------+----------+\n",
            "|        2| United|        UA456|   SFO|        ORD|2024-09-09 09:30:00|2024-09-09 15:00:00|       45|    2960|01-07-2023|\n",
            "+---------+-------+-------------+------+-----------+-------------------+-------------------+---------+--------+----------+\n",
            "\n",
            "+---------+------------------+\n",
            "|  airline|      AverageDelay|\n",
            "+---------+------------------+\n",
            "|    Delta|16.666666666666668|\n",
            "|   United|              22.5|\n",
            "|  JetBlue|              10.0|\n",
            "|Southwest|               2.5|\n",
            "| American|              20.0|\n",
            "+---------+------------------+\n",
            "\n",
            "+---------+---------+-------------+------+-----------+-------------------+-------------------+---------+--------+----------+\n",
            "|flight_id|  airline|flight_number|origin|destination|     departure_time|       arrival_time|delay_min|distance|      date|\n",
            "+---------+---------+-------------+------+-----------+-------------------+-------------------+---------+--------+----------+\n",
            "|        3|Southwest|        SW789|   DAL|        ATL|2024-09-09 06:00:00|2024-09-09 08:30:00|        0|    1150|01-07-2023|\n",
            "|        6|   United|        UA457|   ORD|        SFO|2024-09-09 11:00:00|2024-09-09 14:30:00|        0|    2960|02-07-2023|\n",
            "|       10|    Delta|        DL125|   JFK|        SEA|2024-09-09 13:00:00|2024-09-09 17:00:00|        0|    3900|04-07-2023|\n",
            "+---------+---------+-------------+------+-----------+-------------------+-------------------+---------+--------+----------+\n",
            "\n"
          ]
        }
      ]
    },
    {
      "cell_type": "code",
      "source": [
        "# 6. Find the Top 3 Most Frequent Routes\n",
        "# Group the data by origin and destination to find the top 3 most\n",
        "# frequent flight routes.\n",
        "df.groupBy(\"origin\", \"destination\").count().orderBy(col(\"count\").desc()).limit(3).show()\n",
        "\n",
        "# 7. Calculate the Total Number of Flights per Day\n",
        "# Group the data by date and calculate the total number of flights on\n",
        "# each day.\n",
        "df.groupBy(\"date\").count().show()\n",
        "\n",
        "# 8. Find the Airline with the Most Flights\n",
        "# Identify the airline that operated the most flights.\n",
        "df.groupBy(\"airline\").count().orderBy(col(\"count\").desc()).first()\n",
        "\n",
        "# 9. Calculate the Average Flight Distance per Day\n",
        "# Group the data by date and calculate the average flight distance for\n",
        "# each day.\n",
        "df.groupBy(\"date\").agg(avg(\"distance\").alias(\"AverageDistance\")).show()\n",
        "\n",
        "# 10. Create a New Column for On-Time Status\n",
        "# Add a new column called on_time that indicates whether a flight was on\n",
        "# time ( True if delay_minutes = 0 , otherwise False ).\n",
        "df.withColumn(\"on_time\", when(col(\"delay_min\") == 0, True).otherwise(False)).show()\n"
      ],
      "metadata": {
        "colab": {
          "base_uri": "https://localhost:8080/"
        },
        "id": "peuB5JKoGlN2",
        "outputId": "cca28b38-447f-49e2-cbcc-46c7af2e7282"
      },
      "execution_count": 19,
      "outputs": [
        {
          "output_type": "stream",
          "name": "stdout",
          "text": [
            "+------+-----------+-----+\n",
            "|origin|destination|count|\n",
            "+------+-----------+-----+\n",
            "|   SFO|        ORD|    1|\n",
            "|   LAX|        JFK|    1|\n",
            "|   DEN|        MIA|    1|\n",
            "+------+-----------+-----+\n",
            "\n",
            "+----------+-----+\n",
            "|      date|count|\n",
            "+----------+-----+\n",
            "|01-07-2023|    3|\n",
            "|02-07-2023|    3|\n",
            "|03-07-2023|    3|\n",
            "|04-07-2023|    1|\n",
            "+----------+-----+\n",
            "\n",
            "+----------+------------------+\n",
            "|      date|   AverageDistance|\n",
            "+----------+------------------+\n",
            "|01-07-2023|2693.3333333333335|\n",
            "|02-07-2023|3233.3333333333335|\n",
            "|03-07-2023|            2700.0|\n",
            "|04-07-2023|            3900.0|\n",
            "+----------+------------------+\n",
            "\n",
            "+---------+---------+-------------+------+-----------+-------------------+-------------------+---------+--------+----------+-------+\n",
            "|flight_id|  airline|flight_number|origin|destination|     departure_time|       arrival_time|delay_min|distance|      date|on_time|\n",
            "+---------+---------+-------------+------+-----------+-------------------+-------------------+---------+--------+----------+-------+\n",
            "|        1|    Delta|        DL123|   JFK|        LAX|2024-09-09 08:00:00|2024-09-09 11:00:00|       30|    3970|01-07-2023|  false|\n",
            "|        2|   United|        UA456|   SFO|        ORD|2024-09-09 09:30:00|2024-09-09 15:00:00|       45|    2960|01-07-2023|  false|\n",
            "|        3|Southwest|        SW789|   DAL|        ATL|2024-09-09 06:00:00|2024-09-09 08:30:00|        0|    1150|01-07-2023|   true|\n",
            "|        4|    Delta|        DL124|   LAX|        JFK|2024-09-09 12:00:00|2024-09-09 20:00:00|       20|    3970|02-07-2023|  false|\n",
            "|        5| American|        AA101|   MIA|        DEN|2024-09-09 07:00:00|2024-09-09 10:00:00|       15|    2770|02-07-2023|  false|\n",
            "|        6|   United|        UA457|   ORD|        SFO|2024-09-09 11:00:00|2024-09-09 14:30:00|        0|    2960|02-07-2023|   true|\n",
            "|        7|  JetBlue|        JB302|   BOS|        LAX|2024-09-09 06:30:00|2024-09-09 09:45:00|       10|    4180|03-07-2023|  false|\n",
            "|        8| American|        AA102|   DEN|        MIA|2024-09-09 11:00:00|2024-09-09 14:00:00|       25|    2770|03-07-2023|  false|\n",
            "|        9|Southwest|        SW790|   ATL|        DAL|2024-09-09 09:00:00|2024-09-09 11:00:00|        5|    1150|03-07-2023|  false|\n",
            "|       10|    Delta|        DL125|   JFK|        SEA|2024-09-09 13:00:00|2024-09-09 17:00:00|        0|    3900|04-07-2023|   true|\n",
            "+---------+---------+-------------+------+-----------+-------------------+-------------------+---------+--------+----------+-------+\n",
            "\n"
          ]
        }
      ]
    }
  ]
}