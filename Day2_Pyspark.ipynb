{
  "nbformat": 4,
  "nbformat_minor": 0,
  "metadata": {
    "colab": {
      "provenance": [],
      "authorship_tag": "ABX9TyOZLoqow0uboAhfzyqL5dFa",
      "include_colab_link": true
    },
    "kernelspec": {
      "name": "python3",
      "display_name": "Python 3"
    },
    "language_info": {
      "name": "python"
    }
  },
  "cells": [
    {
      "cell_type": "markdown",
      "metadata": {
        "id": "view-in-github",
        "colab_type": "text"
      },
      "source": [
        "<a href=\"https://colab.research.google.com/github/TanishqLambhate/Data-Science-Training/blob/pyspark/Day2_Pyspark.ipynb\" target=\"_parent\"><img src=\"https://colab.research.google.com/assets/colab-badge.svg\" alt=\"Open In Colab\"/></a>"
      ]
    },
    {
      "cell_type": "code",
      "source": [
        "pip install pyspark"
      ],
      "metadata": {
        "id": "xz3Wg-Bcq5jD",
        "colab": {
          "base_uri": "https://localhost:8080/"
        },
        "outputId": "077a5cae-d518-4a5d-e675-25ba2908e6b7"
      },
      "execution_count": 1,
      "outputs": [
        {
          "output_type": "stream",
          "name": "stdout",
          "text": [
            "Collecting pyspark\n",
            "  Downloading pyspark-3.5.2.tar.gz (317.3 MB)\n",
            "\u001b[2K     \u001b[90m━━━━━━━━━━━━━━━━━━━━━━━━━━━━━━━━━━━━━━━━\u001b[0m \u001b[32m317.3/317.3 MB\u001b[0m \u001b[31m2.3 MB/s\u001b[0m eta \u001b[36m0:00:00\u001b[0m\n",
            "\u001b[?25h  Preparing metadata (setup.py) ... \u001b[?25l\u001b[?25hdone\n",
            "Requirement already satisfied: py4j==0.10.9.7 in /usr/local/lib/python3.10/dist-packages (from pyspark) (0.10.9.7)\n",
            "Building wheels for collected packages: pyspark\n",
            "  Building wheel for pyspark (setup.py) ... \u001b[?25l\u001b[?25hdone\n",
            "  Created wheel for pyspark: filename=pyspark-3.5.2-py2.py3-none-any.whl size=317812365 sha256=4999445771e6bc2f2cc8fce5c952005b44d02ab1651617cb998affc6743b57a6\n",
            "  Stored in directory: /root/.cache/pip/wheels/34/34/bd/03944534c44b677cd5859f248090daa9fb27b3c8f8e5f49574\n",
            "Successfully built pyspark\n",
            "Installing collected packages: pyspark\n",
            "Successfully installed pyspark-3.5.2\n"
          ]
        }
      ]
    },
    {
      "cell_type": "code",
      "source": [
        "from pyspark.sql import SparkSession\n",
        "from pyspark.sql.functions import col\n",
        "\n",
        "#Initialize SparkSession\n",
        "spark=SparkSession.builder \\\n",
        "      .appName(\"Customer Transaction Analysis\") \\\n",
        "      .getOrCreate()\n",
        "\n",
        "#Sample data for customers\n",
        "customers=[\n",
        "    (1,\"Ravi\",\"Mumbai\"),\n",
        "    (2,\"Priya\",\"Delhi\"),\n",
        "    (3,\"Vijay\",\"Banglore\"),\n",
        "    (4,\"Anita\",\"Chennai\"),\n",
        "    (5,\"Raj\",\"Hyderabad\")\n",
        "]\n",
        "# Sample data fro transactions\n",
        "transactions=[\n",
        "    (1,1,10000.50),\n",
        "    (2,2,20000.75),\n",
        "    (3,1,15000.25),\n",
        "    (4,3,30000.00),\n",
        "    (4,2,40000.50),\n",
        "    (6,4,25000.00),\n",
        "    (7,5,18000.75),\n",
        "    (8,1,5000.00),\n",
        "]\n",
        "\n",
        "# Define schema for DataFrames\n",
        "customer_columns=[\"CustomerID\",\"Name\",\"City\"]\n",
        "transaction_columns=[\"TransactionID\",\"CustomerID\",\"Amount\"]\n",
        "\n",
        "#Create Dataframes\n",
        "customer_df=spark.createDataFrame(customers,schema=customer_columns)\n",
        "transaction_df=spark.createDataFrame(transactions,schema=transaction_columns)\n",
        "\n",
        "#Show the DataFrames\n",
        "print(\"Customer DataFrame:\")\n",
        "customer_df.show()\n",
        "\n",
        "print(\"Transactions DataFrame:\")\n",
        "transaction_df.show()"
      ],
      "metadata": {
        "colab": {
          "base_uri": "https://localhost:8080/"
        },
        "id": "7tDVamMSCcA9",
        "outputId": "0b8bc917-74ef-4eae-d129-d62a557e2656"
      },
      "execution_count": 3,
      "outputs": [
        {
          "output_type": "stream",
          "name": "stdout",
          "text": [
            "Customer DataFrame:\n",
            "+----------+-----+---------+\n",
            "|CustomerID| Name|     City|\n",
            "+----------+-----+---------+\n",
            "|         1| Ravi|   Mumbai|\n",
            "|         2|Priya|    Delhi|\n",
            "|         3|Vijay| Banglore|\n",
            "|         4|Anita|  Chennai|\n",
            "|         5|  Raj|Hyderabad|\n",
            "+----------+-----+---------+\n",
            "\n",
            "Transactions DataFrame:\n",
            "+-------------+----------+--------+\n",
            "|TransactionID|CustomerID|  Amount|\n",
            "+-------------+----------+--------+\n",
            "|            1|         1| 10000.5|\n",
            "|            2|         2|20000.75|\n",
            "|            3|         1|15000.25|\n",
            "|            4|         3| 30000.0|\n",
            "|            4|         2| 40000.5|\n",
            "|            6|         4| 25000.0|\n",
            "|            7|         5|18000.75|\n",
            "|            8|         1|  5000.0|\n",
            "+-------------+----------+--------+\n",
            "\n"
          ]
        }
      ]
    },
    {
      "cell_type": "code",
      "source": [],
      "metadata": {
        "id": "YWoaw-yZEq93"
      },
      "execution_count": null,
      "outputs": []
    }
  ]
}